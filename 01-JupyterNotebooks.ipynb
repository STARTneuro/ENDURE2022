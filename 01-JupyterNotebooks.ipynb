{
 "cells": [
  {
   "cell_type": "markdown",
   "id": "6553d7be",
   "metadata": {},
   "source": [
    "# Jupyter Notebooks \n",
    "This first notebook will introduce you using Jupyter Notebooks for BILD 62 and beyond. \n",
    "\n",
    "### At the end of this notebook, you'll be able to:\n",
    "* Edit and run code and markdown cells in Jupyter Notebooks\n",
    "* Use basic <b>arithmetic operations</b> in Python\n",
    "* Assign <b>variables</b> and manipulate them\n",
    "* Interpret basic errors while running Jupyter Notebooks\n",
    "* Identify fundamental rules of Python syntax and variable creation\n",
    "\n",
    "<hr>\n",
    "\n",
    "## Part I. About Jupyter Notebooks\n",
    "\n",
    "Jupyter notebooks are a way to combine executable code, code outputs, and text into one connected file. They run in a web browser, but don't require the internet (unless you're running it on Colab, in which case we're using Google servers to run the code).\n",
    "\n",
    "The <b>'kernel'</b> is the thing that executes your code. It is what connects the notebook (as you see it) with the part of your computer, or the Google servers, that runs code.\n",
    "\n",
    "Jupyter Notebooks have two types of cells, a <b>Markdown</b> (like this one) and <b>Code</b>. In the notebooks for this workshop, you don't need to run the Markdown cells, just read through them. However, when we get to a code cell, you need to tell Python to run the lines of code that it contains.\n",
    "\n",
    "There are many useful keyboard shortcuts in these notebooks, which you'll learn to use in time. Click on the 'Tools' menu, and then 'Keyboard Shortcuts' to see a list.\n",
    "\n",
    "\n",
    "<hr>\n",
    "\n",
    "### Using Markdown\n",
    "Markdown is useful because it can be formatted using simple symbols.\n",
    "* You can create bulleted lists using asterisks.\n",
    "* Similarly, you can create numbered lists using numbers.\n",
    "* You can **bold** with two asterisks or underscores on either side (`**bold**`) or *italicize* with one asterisk or underscore (`*italicize*`)\n",
    "* Pound signs (#) create headers. More pound signs means a smaller header.\n",
    "\n",
    "> **Task**: Edit the markdown cell below by double clicking it. Fill it with a quick biography of yourself. You should have your name as a big header, a short quippy subtitle for yourself as a smaller header, and a three bullet points that use both **bold** and *italic*.</div>"
   ]
  },
  {
   "cell_type": "markdown",
   "id": "bc524064",
   "metadata": {},
   "source": [
    "< Edit this markdown cell! >"
   ]
  },
  {
   "cell_type": "markdown",
   "id": "3835d452",
   "metadata": {},
   "source": [
    "### Using Code Cells\n",
    "Code cells will be read by the Python interpreter. In other words, the Python kernel will run whatever it recognizes as code within the cell.\n",
    "> **Task**: Run the code cell below (see instructions within the cell)."
   ]
  },
  {
   "cell_type": "code",
   "execution_count": null,
   "id": "ee6f2a80",
   "metadata": {},
   "outputs": [],
   "source": [
    "# In Python, anything with a \"#\" in front of it is code annotation, and is not read by the computer.\n",
    "# Run this cell by clicking in it and then pressing shift and enter/return simultaneously.\n",
    "# The line below will print a message for us. After you import it, Python will print a message.\n",
    "# (having printed messages like these is a really nice way to check that your cell actually ran!)\n",
    "print('Nice work!')"
   ]
  },
  {
   "cell_type": "markdown",
   "id": "d106ffbb",
   "metadata": {},
   "source": [
    "## Part II. Python Expressions & Variables\n",
    "\n",
    "We can perform various arithmetic operations in Python:\n",
    "\n",
    "| Symbol |    Operation   | Usage |\n",
    "|:------:|:--------------:|:-----:|\n",
    "|    +   |    Addition    |  10+2 |\n",
    "|    -   |   Subtraction  |  10-2 |\n",
    "|    *   | Multiplication |  10*2 |\n",
    "|    /   |    Division    |  10/2 |\n",
    "|   **   |    Exponent    | 10**2 |\n",
    "| %      |    Modulo      |  10%2 |\n",
    "\n",
    "Notes:\n",
    "* The default order of operations is the same as in mathematics! (PEMDAS)\n",
    "* If you want a whole number from your division, use // instead"
   ]
  },
  {
   "cell_type": "markdown",
   "id": "827618e0",
   "metadata": {},
   "source": [
    ">**Task**: Try each of the operators above. Before using the modulo operator, predict what it will output, and make sure it produces what you expect."
   ]
  },
  {
   "cell_type": "code",
   "execution_count": null,
   "id": "8119ad9f",
   "metadata": {},
   "outputs": [],
   "source": [
    "# Let's play with numbers weee\n",
    "8*2"
   ]
  },
  {
   "cell_type": "markdown",
   "id": "17e9a354",
   "metadata": {},
   "source": [
    "## Variables\n",
    "Variables enable us to store a value and come back to it later. They are defined with `name = value`. *Assignment is not the same thing as equality,* as in mathematics.\n",
    "\n",
    "### Assigning variables"
   ]
  },
  {
   "cell_type": "markdown",
   "id": "5e1e23a9",
   "metadata": {},
   "source": [
    ">**Task:** Create two variables: a & b. Then, use an expression that combines a and b, and assign this to c. In the end, c should be equal to 6.</div>"
   ]
  },
  {
   "cell_type": "code",
   "execution_count": null,
   "id": "b8692c87",
   "metadata": {},
   "outputs": [],
   "source": [
    "# Let's save a few integers and then manipulate them.\n",
    "a = \n",
    "\n"
   ]
  },
  {
   "cell_type": "markdown",
   "id": "8af8e2dd",
   "metadata": {},
   "source": [
    "<b>Note</b>: Most code cells will not give you an output unless you ask for it. You can use `print( )` to output a variable or string. However, cells that *only* contain one variable will print its value.\n",
    "\n",
    "><b>Task:</b> Create a cell below and output your variable c.\n",
    "\n",
    "<b>Hint</b>: Look in Tools > Keyboard Shortcuts for a quick way to create a new cell below."
   ]
  },
  {
   "cell_type": "markdown",
   "id": "9ea2e14d",
   "metadata": {},
   "source": [
    "## Part III. Python Syntax\n",
    "\n",
    "<font color='blue'>**Breakout room activity!** Your goal for this activity is to do the following three tests about syntax in Python. Then, as a breakout room, you should identify *three* rules for creating variables. For example, \"Variable names need to be capitalized.\"</font>\n",
    "\n",
    "### Test #1: Do spaces matter in Python?\n",
    "\n",
    "We can run experiments in coding, just like we can in biology. Here, we'll run a small experiment to test whether or not spaces matter. In the cell above, we showed you an example of using a `print` statement to display a line of text.\n",
    "\n",
    "> **Task**: What do you think will happen if you add a space after `print`, before the parentheses? Test your hypothesis in the blank cell below"
   ]
  },
  {
   "cell_type": "code",
   "execution_count": 1,
   "id": "c9cd07eb",
   "metadata": {},
   "outputs": [],
   "source": [
    "# Test print here\n"
   ]
  },
  {
   "cell_type": "markdown",
   "id": "086e797a",
   "metadata": {},
   "source": [
    "### Test #2: Does capitalization matter in Python?\n",
    "> **Task** Similar to above, test whether or not capitalization matters here!"
   ]
  },
  {
   "cell_type": "code",
   "execution_count": null,
   "id": "6bbcb21c",
   "metadata": {},
   "outputs": [],
   "source": [
    "# Test here\n"
   ]
  },
  {
   "cell_type": "markdown",
   "id": "6ae27fee",
   "metadata": {},
   "source": [
    "So, Python cares about capitalization, but not spacing (at least in this example). Usefully, Python is also giving us an error message: `NameError: name 'Print' is not defined`.\n",
    "\n",
    "Error messages are extremely useful hints as to why your code may not be working. This one falls into the category \"Name error\". Search \"NameError + Python\" and use this to define a NameError in the box below."
   ]
  },
  {
   "cell_type": "markdown",
   "id": "110d2745",
   "metadata": {},
   "source": [
    "**NameError**:"
   ]
  },
  {
   "cell_type": "markdown",
   "id": "4e720609",
   "metadata": {},
   "source": [
    "Essentially, Python is telling us that it doesn't know what `Print` is. There's another clue in this notebook telling us that Python is treating `print` and `Print` differently -- can you tell what it is? Write your observations below. "
   ]
  },
  {
   "cell_type": "markdown",
   "id": "60c3c4e5",
   "metadata": {},
   "source": [
    "**Observations**:"
   ]
  },
  {
   "cell_type": "markdown",
   "id": "9859e63d",
   "metadata": {},
   "source": [
    "### Test #3: Do indents or white space matter?\n",
    "\n",
    "One final test! Does Python care about indents (or spaces in front of the code), or white space (blank lines in between lines of code)? Create a Code cell to test these, and then a new Markdown cell to write your observations below."
   ]
  },
  {
   "cell_type": "markdown",
   "id": "2aa5546c",
   "metadata": {},
   "source": [
    "### Rules for creating variables\n",
    "\n",
    "<font color='blue'>Modify this markdown cell with three rules for creating variables.</font>\n",
    "\n",
    "1. Rule #1\n",
    "2. Rule #2\n",
    "3. Rule #3"
   ]
  },
  {
   "cell_type": "markdown",
   "id": "927473bf",
   "metadata": {},
   "source": [
    "<hr>\n",
    "\n",
    "## About this notebook\n",
    "\n",
    "* For more useful information, check out Jupyter Notebooks \n",
    "<a href=\"https://www.dataquest.io/blog/jupyter-notebook-tips-tricks-shortcuts/\" class=\"alert-link\">tips & tricks</a>\n",
    ", and more information on how \n",
    "<a href=\"http://jupyter.readthedocs.io/en/latest/architecture/how_jupyter_ipython_work.html\" class=\"alert-link\">notebooks work</a>."
   ]
  }
 ],
 "metadata": {
  "kernelspec": {
   "display_name": "Python 3",
   "language": "python",
   "name": "python3"
  },
  "language_info": {
   "codemirror_mode": {
    "name": "ipython",
    "version": 3
   },
   "file_extension": ".py",
   "mimetype": "text/x-python",
   "name": "python",
   "nbconvert_exporter": "python",
   "pygments_lexer": "ipython3",
   "version": "3.7.3"
  }
 },
 "nbformat": 4,
 "nbformat_minor": 5
}
