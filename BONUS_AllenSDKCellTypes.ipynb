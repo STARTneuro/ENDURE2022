{
  "cells": [
    {
      "cell_type": "markdown",
      "metadata": {
        "id": "15FivB6mN943"
      },
      "source": [
        "# Defining cell types by their electrophysiology\n",
        "### The brain has thousands of different types of cells. How do we even begin to tease them apart?\n",
        "We can define neurons by their gene expression patterns, electrophysiology features, and structure. Here, we'll use these features to compare and contrast cell types in the brain.\n",
        "\n",
        "This notebook will help us investigate specific features in the electrophysiology dataset from the Allen Brain Atlas."
      ]
    },
    {
      "cell_type": "markdown",
      "metadata": {
        "id": "pS4tgL5xN946"
      },
      "source": [
        "### Tutorial Steps\n",
        "1. [Setup our coding environment](#setup)\n",
        "2. [Get the Data for Different Cre Lines](#credata)\n",
        "3. [Plot Pre-Computed Features for Different Cre Lines](#plot)\n",
        "4. [Plot waveforms of two cells that are high or low in your parameter](#waveforms)\n",
        "<hr>"
      ]
    },
    {
      "cell_type": "markdown",
      "metadata": {
        "id": "UacHJYDXN947"
      },
      "source": [
        "<a id=\"setup\"></a>\n",
        "## Step 1. Setup our coding environment\n",
        "Whenever we start an analysis in Python, we need to be sure to import the necessary code packages. Below, we'll import a common selection of packages that will help us analyze and plot our data. We'll also configure the plotting in our notebook."
      ]
    },
    {
      "cell_type": "markdown",
      "metadata": {
        "id": "3Elm4NkYN947"
      },
      "source": [
        "><b>Task</b>: Run the cell below to import the packages we need."
      ]
    },
    {
      "cell_type": "code",
      "execution_count": null,
      "metadata": {
        "id": "ipRnKuvgN948"
      },
      "outputs": [],
      "source": [
        "import matplotlib.pyplot as plt # Import our plotting package from matplotlib\n",
        "%matplotlib inline \n",
        "%config InlineBackend.figure_format = 'retina'\n",
        "import pandas as pd # Import pandas for working with databases\n",
        "import numpy as np\n",
        "print('Packages imported!')"
      ]
    },
    {
      "cell_type": "markdown",
      "metadata": {
        "id": "hwiUSctfN948"
      },
      "source": [
        "In order to interact with some real data from the Allen Institute, we need to `import` the CellTypesCache module. This module provides tools to allow us to get information from the Cell Types database. \n",
        "\n",
        "The CellTypesCache that we're importing provides tools to allow us to get information from the cell types database. We're giving it a **manifest** filename as well. CellTypesCache will create this manifest file, which contains metadata about the cache. If you want, you can look in the cell_types folder in your code directory and take a look at the file.\n",
        "\n",
        "><b>Task</b>: Run the cells below."
      ]
    },
    {
      "cell_type": "code",
      "source": [
        "# Run this to install the AllenSDK\n",
        "!pip install allensdk"
      ],
      "metadata": {
        "id": "Lfzw0x2cOCzj"
      },
      "execution_count": null,
      "outputs": []
    },
    {
      "cell_type": "code",
      "execution_count": null,
      "metadata": {
        "id": "12qVAjA8N949"
      },
      "outputs": [],
      "source": [
        "#Import the \"Cell Types Cache\" from the AllenSDK core package\n",
        "from allensdk.core.cell_types_cache import CellTypesCache\n",
        "\n",
        "#Initialize the cache as 'ctc' (cell types cache)\n",
        "ctc = CellTypesCache(manifest_file='cell_types/manifest.json')\n",
        "\n",
        "print('CellTypesCache imported.')"
      ]
    },
    {
      "cell_type": "markdown",
      "metadata": {
        "id": "THOQ138dN94-"
      },
      "source": [
        "<a id=\"credata\"></a>\n",
        "\n",
        "## Step 2. Get the data for different Cre transgenic mouse lines\n",
        "What if we want to know whether different genetically-identified cells have different intrinsic physiology?\n",
        "    \n",
        "The Allen Institute for Brain Science uses transgenic mouse lines that have Cre-expressing cells to mark specific types of cells in the brain. This technology is called the Cre-Lox system, and is a common way in neuroscience (and some other fields) to target cells based on their expression of specific genetic promotors. For more information about Cre/Lox technology, see [this website](https://old.abmgood.com/marketing/knowledge_base/Cre-Lox_Recombination.php).\n",
        "\n",
        "Let's first find out which Cre lines are available in our dataset.\n",
        "\n",
        ">**Task**: Run the cell below. It will print a list of Cre lines available in this dataset."
      ]
    },
    {
      "cell_type": "code",
      "execution_count": null,
      "metadata": {
        "id": "B0WZEXU2N94-"
      },
      "outputs": [],
      "source": [
        "from allensdk.api.queries.cell_types_api import CellTypesApi\n",
        "\n",
        "# make a dataframe out of ephys features\n",
        "ephys_features = ctc.get_ephys_features()\n",
        "ephys_features_df = pd.DataFrame.from_records(ephys_features)\n",
        "\n",
        "# grab mouse data and merge with dataframe\n",
        "mouse_df = pd.DataFrame(ctc.get_cells(species=[CellTypesApi.MOUSE])) # get all mouse experiments\n",
        "mouse_ephys_df = pd.merge(mouse_df,ephys_features_df,left_on='id',right_on='specimen_id',how='left')\n",
        "\n",
        "print(mouse_ephys_df['transgenic_line'].unique())"
      ]
    },
    {
      "cell_type": "markdown",
      "metadata": {
        "id": "egnSZ_X5N94_"
      },
      "source": [
        "> **Task**: Choose two different Cre lines to compare, and assign them to the variables below by replacing the `...`. The value of your variable needs to be a <b>string</b> -- in other words, it should have quotes around it. The cell will print how many cells are in your datasets. If you have less than 10 cells, consider choosing a different Cre-line.\n",
        "\n",
        "<div class=\"alert alert-block alert-info\"><b>You can find information on the different cre-lines that are available in <a href=\"https://docs.google.com/document/d/1ZMMZgc7cS5BHhoWNqzjw95BdxOuj5wrYl9I7PV2HeUI/edit?usp=sharing\">this glossary</a> or on the <a href=\"http://connectivity.brain-map.org/transgenic\">Allen Institute's website</b></a>.</div>\n",
        "\n",
        "> **Note**: Be sure that you are using the *entire* name of the Cre line -- that means *everything* within the single quotes above."
      ]
    },
    {
      "cell_type": "code",
      "execution_count": null,
      "metadata": {
        "id": "mhF9yLXnN94_"
      },
      "outputs": [],
      "source": [
        "cre_line_1 = ...\n",
        "cre_line_2 = ...\n",
        "\n",
        "cre_line_1_df = mouse_ephys_df[mouse_ephys_df['transgenic_line']==cre_line_1]\n",
        "cre_line_2_df = mouse_ephys_df[mouse_ephys_df['transgenic_line']==cre_line_2]\n",
        "\n",
        "print(cre_line_1 + ' has ' + str(len(cre_line_1_df)) + ' cells')\n",
        "print(cre_line_2 + ' has ' + str(len(cre_line_2_df)) + ' cells')"
      ]
    },
    {
      "cell_type": "markdown",
      "metadata": {
        "id": "z7Q1V34XN95A"
      },
      "source": [
        "<a id=\"plot\"></a>\n",
        "## Step 3. Plot Pre-Computed Features for Different Cre Lines\n",
        "Let's start by plotting a distribution of the recorded resting membrane potential (`vrest`) for our two different Cre lines.\n",
        "\n",
        "Note that the distribution here is normalized by the total count (`density=True`), since there may be different cell counts for your Cre lines. Look through the [`plt.hist()` documentation](https://matplotlib.org/3.3.1/api/_as_gen/matplotlib.pyplot.hist.html) for more information."
      ]
    },
    {
      "cell_type": "code",
      "execution_count": null,
      "metadata": {
        "id": "lEe9NmDHN95A"
      },
      "outputs": [],
      "source": [
        "plt.figure(figsize=(5,5)) # Modify this line to change the dimensions of your plot\n",
        "\n",
        "# Change your parameter below.\n",
        "# Make sure this matches the name in the parentheses in the orange box below.\n",
        "parameter = ...\n",
        "\n",
        "# Plot the histogram, with density = True \n",
        "plt.hist([cre_line_1_df[parameter],cre_line_2_df[parameter]],density = True)\n",
        "plt.xlabel('Resting Membrane Potential (mV)') # X label -- be sure to update!\n",
        "plt.ylabel('Number of Cells')\n",
        "plt.legend([cre_line_1,cre_line_2])\n",
        "\n",
        "# Boxplot creation lines below, we'll also drop NaN values\n",
        "#plt.boxplot([cre_line_1_df[parameter].dropna(),cre_line_2_df[parameter].dropna()])\n",
        "#plt.ylabel('This is the y label') # y-axis label\n",
        "#plt.xticks([1, 2], [cre_line_1,cre_line_2])\n",
        "\n",
        "plt.title('This is my plot title') # Plot title -- be sure to update!\n",
        "plt.show()"
      ]
    },
    {
      "cell_type": "markdown",
      "metadata": {
        "id": "aScEDL_oN95B"
      },
      "source": [
        "> <b>Task</b>: Choose a different parameter to compare between your two different Cre lines, and rerun the plot above.\n",
        "1. Use the documentation below to get the exact name of the parameter (in parentheses)\n",
        "2. Set `parameter = ` to the exact name of your parameter. \n",
        "3. Decide whether or not you'd like to plot your data as a histogram or a boxplot. To make it a boxplot, <b>comment</b> out the lines for the histogram (add a <code>#</code>) and <b><i>uncomment</b></i> the four lines below. Re-run the code to get a boxplot of the data. \n",
        "4. Adjust the plot axis labels accordingly. You can also adjust the figure dimensions by changing `figsize=` in the first line.\n",
        "5. Right click to save your image when you're done -- you'll need this for your data slide.\n",
        "\n",
        "<div class=\"alert alert-block alert-info\"><b>Below are a few metrics you might consider comparing. You can also find a complete glossary <a href=\"https://docs.google.com/document/d/1YGLwkMTebwrXd_1E817LFbztMjSTCWh83Mlp3_3ZMEo/edit?usp=sharing\">here</a>:</b></div>\n",
        "\n",
        "<br>\n",
        "<div style=\"background: #F3D48D; border-radius: 3px; padding: 10px;\">\n",
        "<b>Tau (<code>tau</code>)</b>: time constant of the membrane in milliseconds\n",
        "    \n",
        "<b>Adapation ratio (<code>adaptation</code>)</b>: The rate at which firing speeds up or slows down during a stimulus<br>\n",
        "    \n",
        "<b>Average ISI (<code>avg_isi</code>)</b>: The mean value of all interspike intervals in a sweep<br>\n",
        "\n",
        "<b>Slope of f/I curve (<code>f_i_curve_slope</code>)</b>: slope of the curve between firing rate (f) and current injected<br>\n",
        "\n",
        "<b>Input Resistance (<code>input_resistance_mohm</code>)</b>: The input resistance of the cell, in megaohms.<br>\n",
        "    \n",
        "<b>Voltage of after-hyperpolarization (<code>trough_v_short_square</code>)</b>: minimum value of the membrane potential during the after-hyperpolarization\n",
        "\n",
        "<b>Action potential fast trough (<code>fast_trough_v_long_square</code>)</b>: Minimum value of the membrane potential in the interval lasting 5 ms after the peak.\n",
        "\n",
        "<b>Upstroke/downstroke ratio (<code>upstroke_downstroke_ratio_long_square</code>)</b>: The ratio between the absolute values of the action potential peak upstroke and the action potential peak downstroke. </div>"
      ]
    },
    {
      "cell_type": "markdown",
      "metadata": {
        "id": "RfiiH12xN95B"
      },
      "source": [
        "Now that you have your two populations, let's see if they're statistically different. Below, we'll assign the data for each of your cre lines to two different variables, `cre_data_1` and `cre_data_2`.\n",
        "\n",
        ">**Task:** Add code below to run two sample statistics on your data."
      ]
    },
    {
      "cell_type": "code",
      "execution_count": null,
      "metadata": {
        "id": "kelxYdKAN95B"
      },
      "outputs": [],
      "source": [
        "from scipy import stats\n",
        "\n",
        "cre_data_1 = cre_line_1_df[parameter].dropna() # Data for your first cre line\n",
        "cre_data_2 = cre_line_2_df[parameter].dropna() # Data for your second cre line\n",
        "\n",
        "# Add your statistics code here\n",
        "\n",
        "# Test for normality\n",
        "\n",
        "# Test for significant differences\n"
      ]
    },
    {
      "cell_type": "markdown",
      "metadata": {
        "id": "XUXfoc6fN95B"
      },
      "source": [
        "<a id=\"waveforms\"></a>\n",
        "## Step 4. Look at the waveforms of two cells that are high or low in your parameter\n",
        "Finally, let's dig into the raw data from our recordings to actually see what action potentials look like from cells that have low or high values for your chosen parameter. You can look at a cell from either of your cre lines. \n",
        "\n",
        "> **Task**: The cell below will sort the dataframe based on your chosen parameter. First, it is set up so that it will put the cell with the highest value at the top. You can change this by changing `ascending=` to `True`. Decide on which cre line you'd like to plot in the very first line."
      ]
    },
    {
      "cell_type": "code",
      "execution_count": null,
      "metadata": {
        "id": "h2l-hC6MN95C"
      },
      "outputs": [],
      "source": [
        "# Choose which dataframe to use (cre_line_1_df or cre_line_2_df)\n",
        "cre_df = cre_line_1_df\n",
        "\n",
        "# Sort the dataframe based on your parameter\n",
        "cre_df_sorted = cre_df.sort_values(parameter,ascending=False)\n",
        "\n",
        "# Assign one of the top cells in our dataframe (default = 0) and the ratio to different variables\n",
        "cell_loc = 0\n",
        "specimen_id = cre_df_sorted.iloc[cell_loc]['id_x']\n",
        "this_cell_parameter = cre_df_sorted.iloc[cell_loc][parameter]\n",
        "\n",
        "# Print our results so that we can see them\n",
        "print('Specimen ID: ' + str(specimen_id) + ' with ' + parameter +'= ' + str(this_cell_parameter))"
      ]
    },
    {
      "cell_type": "markdown",
      "metadata": {
        "id": "nKYkqAgkN95C"
      },
      "source": [
        "> **Task**: The cell below will get raw electrophysiology for the specimen ID above. There are multiple \"sweeps\" (individual recordings) from this cell, with different current injections. The cell below will print a list of sweeps for you -- choose one and plot the sweep below to see if there are action potentials in that sweep. You may need to change sweep numbers until you find one with at least one action potential.\n",
        "\n",
        "**Tip**: If you're having trouble finding a sweep with some nice action potentials, plug your specimen ID into this URL, (without the < or >): `https://celltypes.brain-map.org/experiment/electrophysiology/<SPECIMEN ID>` and pull up the website for your cell. You can then flip through the sweeps and find a good one to plug in here."
      ]
    },
    {
      "cell_type": "code",
      "execution_count": null,
      "metadata": {
        "id": "8CVkuxqSN95C"
      },
      "outputs": [],
      "source": [
        "# Get the data for our cell\n",
        "raw_data = ctc.get_ephys_data(specimen_id)\n",
        "\n",
        "# Print the available sweep numbers for this cell\n",
        "print('Sweep numbers: ',raw_data.get_sweep_numbers())\n",
        "\n",
        "# CHOOSE A SWEEP NUMBER\n",
        "sweep_number = 71 \n",
        "this_sweep = raw_data.get_sweep(sweep_number) \n",
        "\n",
        "# Get the current & voltage traces\n",
        "current = this_sweep['stimulus'] * 1e12 # in A, converted to pA\n",
        "voltage = this_sweep['response'] * 1e3 # converted to mV!\n",
        "\n",
        "# Get the time stamps for our voltage trace\n",
        "timestamps = (np.arange(0, len(voltage)) * (1.0 / this_sweep['sampling_rate']))\n",
        "\n",
        "print('\\nSweep obtained')"
      ]
    },
    {
      "cell_type": "markdown",
      "metadata": {
        "id": "K0dUWRKlN95C"
      },
      "source": [
        "><b>Task:</b> Plot the sweep we obtained above. <i>Hint</i>: You want to use `plt.plot(x,y)` -- `x` is the timestamps we generated in the cell above, and `y` is the voltage.\n",
        "\n",
        "**Tips**\n",
        "- Use `plt.xlim()` to modify the x-limit and zoom in on the actual action potentials in your trace. How far you zoom in is up to you -- choose the visualization that best emphasizes the difference between your sweeps.\n",
        "- Use `plt.xlabel()` to label your axes!"
      ]
    },
    {
      "cell_type": "code",
      "execution_count": null,
      "metadata": {
        "id": "vyJ4ZZanN95C"
      },
      "outputs": [],
      "source": [
        "# Plot the new sweep here\n"
      ]
    },
    {
      "cell_type": "markdown",
      "metadata": {
        "id": "dkzC-AuvN95D"
      },
      "source": [
        "Once you have two different sweeps to compare -- one with a *high* value in your parameter, and one with a *low* value, save these images for your data slides.\n",
        "\n",
        "That's it for today -- great work!"
      ]
    },
    {
      "cell_type": "code",
      "execution_count": null,
      "metadata": {
        "id": "vUqjrlbTN95D"
      },
      "outputs": [],
      "source": [
        "from IPython.display import HTML\n",
        "print('Nice work!')\n",
        "HTML('<img src=\"https://media.giphy.com/media/xUOwGhOrYP0jP6iAy4/giphy.gif\">')"
      ]
    },
    {
      "cell_type": "markdown",
      "metadata": {
        "id": "n-0g2OVCN95D"
      },
      "source": [
        "<hr>\n",
        "<a id=\"technical\"></a>\n",
        "\n",
        "### Technical notes & credits\n",
        "\n",
        "This notebook demonstrates most of the features of the AllenSDK that help manipulate data in the Cell Types Database.  The main entry point will be through the `CellTypesCache` class. `CellTypesCache` is responsible for downloading Cell Types Database data to a standard directory structure on your hard drive.  If you use this class, you will not have to keep track of where your data lives, other than a root directory.\n",
        "\n",
        "Much more information can be found in the <a href=\"http://help.brain-map.org/download/attachments/8323525/CellTypes_Ephys_Overview.pdf\">Allen Brain Atlas whitepaper</a> as well as in their <a href=\"http://alleninstitute.github.io/AllenSDK/cell_types.html\">GitHub documentation</a>.\n",
        "\n",
        "This notebook was largely inspired by <a href='https://alleninstitute.github.io/AllenSDK/_static/examples/nb/cell_types.html'>this</a> notebook."
      ]
    }
  ],
  "metadata": {
    "kernelspec": {
      "display_name": "Python 3",
      "language": "python",
      "name": "python3"
    },
    "language_info": {
      "codemirror_mode": {
        "name": "ipython",
        "version": 3
      },
      "file_extension": ".py",
      "mimetype": "text/x-python",
      "name": "python",
      "nbconvert_exporter": "python",
      "pygments_lexer": "ipython3",
      "version": "3.7.3"
    },
    "colab": {
      "name": "VirtualLab6_CellTypes.ipynb",
      "provenance": []
    }
  },
  "nbformat": 4,
  "nbformat_minor": 0
}