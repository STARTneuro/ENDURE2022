{
  "nbformat": 4,
  "nbformat_minor": 0,
  "metadata": {
    "colab": {
      "name": "02-VariablesStrings.ipynb",
      "provenance": []
    },
    "kernelspec": {
      "name": "python3",
      "display_name": "Python 3"
    },
    "language_info": {
      "name": "python"
    }
  },
  "cells": [
    {
      "cell_type": "markdown",
      "source": [
        "# Variables & Strings\n",
        "\n",
        "In this notebook, we'll encounter more basics of Python syntax, including creating and identifying different types of variables.\n",
        "\n",
        "\n",
        "### At the end of this notebook, you'll be able to:\n",
        "* Recognize three different **types** of variables: integers, floats, and strings\n",
        "* Slice and concatenate strings\n",
        "* Identify rules for naming variables\n",
        "* Create and manipulate **aliases**\n",
        "\n",
        "<hr>"
      ],
      "metadata": {
        "id": "f8ADI1aTfonE"
      }
    },
    {
      "cell_type": "markdown",
      "source": [
        "## Printing\n",
        "Let's begin teaching you how to talk to your computer. You can get your computer to print anything to screen using the print command. \n",
        "\n",
        "```\n",
        "print(\"Your text here\")\n",
        "```\n",
        "The computer reads the given text and returns it.\n",
        "\n"
      ],
      "metadata": {
        "id": "4INXV8Ktgmfl"
      }
    },
    {
      "cell_type": "code",
      "source": [
        "print(\"hello\")"
      ],
      "metadata": {
        "colab": {
          "base_uri": "https://localhost:8080/"
        },
        "id": "csR7KHNUom_c",
        "outputId": "02d543a4-9832-486c-e640-dc885e4a7040"
      },
      "execution_count": null,
      "outputs": [
        {
          "output_type": "stream",
          "name": "stdout",
          "text": [
            "hello\n"
          ]
        }
      ]
    },
    {
      "cell_type": "code",
      "source": [
        "# Anything with a \"#\" is a comment. This is not read by the computer and will be skipped. \n",
        "# Comments are for notating your code so it is legible to you and others or for debugging\n",
        "# print(\"Hello\")\n",
        "print(\"Hello World\")"
      ],
      "metadata": {
        "colab": {
          "base_uri": "https://localhost:8080/"
        },
        "id": "iCqFL4lxiJOK",
        "outputId": "971475bf-4970-4380-f7b7-887128043da6"
      },
      "execution_count": null,
      "outputs": [
        {
          "output_type": "stream",
          "name": "stdout",
          "text": [
            "Hello World\n"
          ]
        }
      ]
    },
    {
      "cell_type": "markdown",
      "source": [
        "# Datatypes\n",
        "\n",
        "When Python reads data, it assigns them a datatype. Here is a list of the default types:\n",
        "*  Text Type:\tstr \n",
        "*  Numeric Types:\tint, float, complex\n",
        "*  Sequence Types:\tlist, tuple, range\n",
        "*  Mapping Type:\tdict\n",
        "*  Set Types:\tset, frozenset\n",
        "*  Binary Types:\tbytes, bytearray, memoryview\n",
        "*  None Type:\tNoneType\n",
        "\n",
        "You can check the datatype with the command type().\n",
        "\n",
        "\n",
        "```\n",
        "print(type(15))\n",
        "```\n",
        "\n",
        "Datatypes are important because all Python commands work for a specified type. If you have one type but Python is expecting another, it will throw an error. You must convert the type to the correct one. \n",
        "\n",
        "You can typecast by applying the type you want to the data you have:\n",
        "\n",
        "```\n",
        "str(15)\n",
        "```\n",
        "\n",
        "\n"
      ],
      "metadata": {
        "id": "fE69xv9PoIGK"
      }
    },
    {
      "cell_type": "markdown",
      "source": [
        "### Working with Strings\n",
        "Strings are represented by matching beginning & ending quotation marks. A few useful notes:\n",
        "\n",
        "* Quotation marks can be single (`'`) or double (`\"`); use single within double (we'll stick to single, most of the time)\n",
        "    * One single quotation mark within a pair of double quotation marks will be interpreted as an apostrophe (a single quotation mark).\n",
        "* Use `\\` to keep single or double quotation mark, instead of reading it as a string (e.g., for a quote or an apostrophe)\n",
        "\n",
        "Let's see how this works with some familiar looking strings -- DNA! Below, we'll assign a string of nucleotides to the variable `my_dna`.\n"
      ],
      "metadata": {
        "id": "H9StY4NOCA4Q"
      }
    },
    {
      "cell_type": "code",
      "source": [
        "my_dna = 'AATGCCGTGCTT'"
      ],
      "metadata": {
        "id": "iVsZ871rCjBG"
      },
      "execution_count": null,
      "outputs": []
    },
    {
      "cell_type": "markdown",
      "source": [
        "#### Indexing and slicing strings\n",
        "We can **index** or **slice** strings using bracket notation. For example, if you want to take the first codon from this list, you could do the following:"
      ],
      "metadata": {
        "id": "yGM3we7rCnJY"
      }
    },
    {
      "cell_type": "code",
      "source": [
        "my_dna[0:3]"
      ],
      "metadata": {
        "id": "V72Dg4T-CosL",
        "colab": {
          "base_uri": "https://localhost:8080/",
          "height": 35
        },
        "outputId": "67a50f6a-6d46-41e4-fca2-f82220837124"
      },
      "execution_count": null,
      "outputs": [
        {
          "output_type": "execute_result",
          "data": {
            "text/plain": [
              "'AAT'"
            ],
            "application/vnd.google.colaboratory.intrinsic+json": {
              "type": "string"
            }
          },
          "metadata": {},
          "execution_count": 6
        }
      ]
    },
    {
      "cell_type": "markdown",
      "source": [
        "Notice the notation here -- we're starting at index 0, and going *until* but not including index 3. We can also use negative indices to index and slice. The image below gives you a visual depiction of the index for each character.\n",
        "\n",
        "> Use the cell above to test different indices and slices.\n",
        "\n",
        "![](http://www.nltk.org/images/string-slicing.png)"
      ],
      "metadata": {
        "id": "lb85hNiJCr1v"
      }
    },
    {
      "cell_type": "markdown",
      "source": [
        "The print command intakes any data of type String and returns it. If the data is not of type String, this command will convert it to String. "
      ],
      "metadata": {
        "id": "HfSun8SFiYrk"
      }
    },
    {
      "cell_type": "markdown",
      "source": [
        "#### Concatenating strings\n",
        "\n",
        "You can concatenate strings (either as variables or by them selves) with `+`.\n",
        "\n",
        "<div class=\"alert alert-info\"><b>Quiz Task</b>: There is a species of jellyfish called 'Bazinga rieki' and a species of orchid bee called 'Euglossa bazinga'. How can we use slicing and concetenation to remix these names to get a species called 'Bazinga bazinga'? <b>Complete the line of code that says <code>new_jellybee = ... </code> and include this line on your worksheet.</div> "
      ],
      "metadata": {
        "id": "M2M-TATFZ4oO"
      }
    },
    {
      "cell_type": "code",
      "source": [
        "jellyfish = 'Bazinga rieki'\n",
        "orchidbee = 'Euglossa bazinga'\n",
        "new_jellybee = ..."
      ],
      "metadata": {
        "id": "FSxGr9zwZ5Gk"
      },
      "execution_count": null,
      "outputs": []
    },
    {
      "cell_type": "markdown",
      "source": [
        "<div class=\"alert alert-success\"><b>Task:</b> You have two dogs, Lassie and Sir Reginald the IV. Create <b>three different</b> strings that will enable you to flexibly introduce either of your dogs to strangers, saying \"This is ___dog_variable___\" Your code should enable you to swap in and out dog names.</div>"
      ],
      "metadata": {
        "id": "Aqp8uUuwZ-vJ"
      }
    },
    {
      "cell_type": "code",
      "source": [
        "# Create your dog strings here"
      ],
      "metadata": {
        "id": "ub3d4NyLZ_O9"
      },
      "execution_count": null,
      "outputs": []
    },
    {
      "cell_type": "markdown",
      "source": [
        "Remember: we can use the `print` function to show more than one variable, as well as variables of different types. You can separate items within `print` by commas to print multiple variables, e.g. `print(a,b,\"name\")`.\n",
        "\n",
        "<div class=\"alert alert-success\"><b>Task:</b> Create a variable 'age' that is the age of Lassie. Change your strings above so that you can produce \"This is ______! He's __(age)__.\" and print the result.</div>\n",
        "\n",
        "<div class=\"alert alert-info\"><b>Quiz Task</b>: While completing the above, you might receive an error that says \"TypeError: can only concatenate str (not \"int\") to str\". Why would you get this error, and how can you correct it?</div>"
      ],
      "metadata": {
        "id": "JBsrmDYlaDrP"
      }
    },
    {
      "cell_type": "markdown",
      "source": [
        "Jupyter also has \n",
        "<a href=\"https://en.wikipedia.org/wiki/Command-line_completion\" class=\"alert-link\"><b>tab complete</b></a>\n",
        "capacities, which can autocomplete what you are typing, and/or be used to explore what code is available. This is useful, for example, if you have a long string variable.\n",
        "\n",
        "\n",
        "<div class=\"alert alert-success\"><b>Task: </b>Use autocomplete to write the name of one of your variables above.</div>"
      ],
      "metadata": {
        "id": "1dXABnw_aG6k"
      }
    },
    {
      "cell_type": "code",
      "source": [
        "# Move your cursor to the end of the line, press tab, and a drop menu will appear showing all possible completions\n",
        "# If there is only one option, tab-complete will auto-complete what you are typing\n"
      ],
      "metadata": {
        "id": "8XsypK22aHdj"
      },
      "execution_count": null,
      "outputs": []
    },
    {
      "cell_type": "markdown",
      "source": [
        "As we're working through this notebook, the kernel also stores your **namespace** - all the variables and code that you have declared (executed). You can check which variables and functions are available with the command `%who`, or `%whos` (for more detailed information).\n",
        "\n",
        "<div class=\"alert alert-success\"><b>Task: </b>Use the who(s) command to check your variables below.</div>"
      ],
      "metadata": {
        "id": "f71NoY5HaLpo"
      }
    },
    {
      "cell_type": "code",
      "source": [
        ""
      ],
      "metadata": {
        "id": "HFnEvD9gaNxW"
      },
      "execution_count": null,
      "outputs": []
    },
    {
      "cell_type": "markdown",
      "source": [
        "## Variables\n",
        "\n",
        "Sometimes you want to use a value in multiple places in your code. This is where variables come in. You can save any data type as a variable. The good thing about Python is that you don't need to define your variable type beforehand like in some other languages. Python assumes the type beforehand. This can be bad later on if you are working with a data type that you didn't expect. They are defined with `name = value`. *Assignment is not the same thing as equality,* as in mathematics.\n",
        "\n",
        "### Types of Variables\n",
        "Variables can be different types. Python lets you change the type of variables (the function is in parentheses below), however, *you cannot combine types*.\n",
        "\n",
        "* Integers (`int`) \n",
        "* String (`str`): letters, numbers, symbols, spaces\n",
        "* Float (`float`): any number with a decimal point (floating point number)\n",
        "\n",
        "You can check what type your variable is by using `type(variable)`.\n",
        "\n",
        "<b>Note</b>: If you ever need help using a function (e.g., `type`) in Jupyter Notebook, you can enter the function followed by a question mark or `help(function)`. For example, `type?` or `help(type)`. You can also check <a href=\"https://www.geeksforgeeks.org/python-type-function/\">the documentation</a>.\n",
        "\n",
        "<b>Reminder:</b> Jupyter will only show you the last line of code in your cell. If you'd like to see more lines, use `print()`.\n",
        "\n",
        "<div class=\"alert alert-success\"><b>Task:</b> In the cell below, assign <b>101</b> to <code>my_variable</code> and check the type of your variable.</div>\n"
      ],
      "metadata": {
        "id": "vb6m9aBAl24s"
      }
    },
    {
      "cell_type": "code",
      "source": [
        "# Check the type of my_variable here"
      ],
      "metadata": {
        "id": "Xtw3JmQqZb3N"
      },
      "execution_count": null,
      "outputs": []
    },
    {
      "cell_type": "markdown",
      "source": [
        "<div class=\"alert alert-info\"><b>Quiz Task</b>: What happens when you add a float (result_float) and an integer (result_int)? Test below, and write the answer on your Quiz.</div>"
      ],
      "metadata": {
        "id": "5gwfWHfUZjYi"
      }
    },
    {
      "cell_type": "code",
      "source": [
        "# Add your float and int here"
      ],
      "metadata": {
        "id": "6P_7ykW0ZkAq"
      },
      "execution_count": null,
      "outputs": []
    },
    {
      "cell_type": "markdown",
      "source": [
        "We can use the command `round( )` to round a float number to a whole number.\n",
        "\n",
        "<div class=\"alert alert-success\"><b>Task:</b> Try round with a float below, and print your result. What kind of variable does this create?</div>"
      ],
      "metadata": {
        "id": "axgsm8rAZmkB"
      }
    },
    {
      "cell_type": "code",
      "source": [
        "var = 15.0\n",
        "print(type(var))"
      ],
      "metadata": {
        "colab": {
          "base_uri": "https://localhost:8080/"
        },
        "id": "No9OYAc8k4wC",
        "outputId": "8ecebdc9-c5a0-4e45-e467-2ad6bff9167e"
      },
      "execution_count": null,
      "outputs": [
        {
          "output_type": "stream",
          "name": "stdout",
          "text": [
            "<class 'float'>\n"
          ]
        }
      ]
    },
    {
      "cell_type": "markdown",
      "source": [
        "We can see that our variable \"var\" has the type \"int\". In other languages, like java, we would have to declare a variable type when we initiate it like:\n",
        "\n",
        "```\n",
        "int var = 15;\n",
        "```\n",
        "Our variable \"var\" is now in the computers working memory. This means we can use it in later code. If the you did not run the cell with \"var\", the following code would throw an error stating that no variable named \"var\" has been declared.\n"
      ],
      "metadata": {
        "id": "M6mT5JI7m-Yv"
      }
    },
    {
      "cell_type": "code",
      "source": [
        "int(var + 2)"
      ],
      "metadata": {
        "colab": {
          "base_uri": "https://localhost:8080/"
        },
        "id": "axUxqHygmxAt",
        "outputId": "283e1033-b301-425e-c91a-d8d13a7f0dfd"
      },
      "execution_count": null,
      "outputs": [
        {
          "output_type": "execute_result",
          "data": {
            "text/plain": [
              "17"
            ]
          },
          "metadata": {},
          "execution_count": 13
        }
      ]
    },
    {
      "cell_type": "code",
      "source": [
        "# This variable has not been declared and will return an error\n",
        "var2=\"Str\"\n",
        "var2 + 2"
      ],
      "metadata": {
        "colab": {
          "base_uri": "https://localhost:8080/",
          "height": 204
        },
        "id": "m1kpX-IzntFG",
        "outputId": "6c12fd66-bd1d-4e33-a36b-b581ac123d05"
      },
      "execution_count": null,
      "outputs": [
        {
          "output_type": "error",
          "ename": "TypeError",
          "evalue": "ignored",
          "traceback": [
            "\u001b[0;31m---------------------------------------------------------------------------\u001b[0m",
            "\u001b[0;31mTypeError\u001b[0m                                 Traceback (most recent call last)",
            "\u001b[0;32m<ipython-input-16-3e31a9a46b41>\u001b[0m in \u001b[0;36m<module>\u001b[0;34m()\u001b[0m\n\u001b[1;32m      1\u001b[0m \u001b[0;31m# This variable has not been declared and will return an error\u001b[0m\u001b[0;34m\u001b[0m\u001b[0;34m\u001b[0m\u001b[0;34m\u001b[0m\u001b[0m\n\u001b[1;32m      2\u001b[0m \u001b[0mvar2\u001b[0m\u001b[0;34m=\u001b[0m\u001b[0;34m\"Str\"\u001b[0m\u001b[0;34m\u001b[0m\u001b[0;34m\u001b[0m\u001b[0m\n\u001b[0;32m----> 3\u001b[0;31m \u001b[0mvar2\u001b[0m \u001b[0;34m+\u001b[0m \u001b[0;36m2\u001b[0m\u001b[0;34m\u001b[0m\u001b[0;34m\u001b[0m\u001b[0m\n\u001b[0m",
            "\u001b[0;31mTypeError\u001b[0m: can only concatenate str (not \"int\") to str"
          ]
        }
      ]
    },
    {
      "cell_type": "markdown",
      "source": [
        "Different operators in Python will produce different types of variables. \n",
        "\n",
        "<div class=\"alert alert-success\"><b>Task:</b> Compare the results of 12/2 and 12//2 by assigning the results of these operations to two different variables. Then, use the <code>int</code> and <code>float</code> functions to transform these variables into an integer and a float called: <code>result_int</code> and <code>result_float</code>.</div>\n",
        "\n",
        "*Hint*: You can wrap commands in other commands. For example, we could write `print(type(a))`."
      ],
      "metadata": {
        "id": "KPrsBceSZUwL"
      }
    },
    {
      "cell_type": "code",
      "source": [
        "# Write your code here"
      ],
      "metadata": {
        "id": "LxyDTKBvZXFx"
      },
      "execution_count": null,
      "outputs": []
    },
    {
      "cell_type": "markdown",
      "source": [
        "## Declaring Variables Cheat Sheet\n",
        "Not *every* word or combination of words and numbers can be a variable name. For example, Python has a list of <b>reserved keywords</b> that cannot be variable names:\n",
        "\n",
        "<table type=\"text/css\">\n",
        "  <tr>\n",
        "      <td><code>False</code></td>\n",
        "      <td><code>None</code></td>\n",
        "      <td><code>True</code></td>\n",
        "      <td><code>and</code></td>\n",
        "      <td><code>as</code></td>\n",
        "      <td><code>assert</code></td>\n",
        "      <td><code>break</code></td>\n",
        "  </tr>\n",
        "  <tr>\n",
        "      <td><code>class</code></td>\n",
        "      <td><code>continue</code></td>\n",
        "      <td><code>def</code></td>\n",
        "      <td><code>del</code></td>\n",
        "      <td><code>elif</code></td>\n",
        "      <td><code>else</code></td>\n",
        "      <td><code>except</code></td>\n",
        "  </tr>\n",
        "  <tr>\n",
        "      <td><code>finally</code></td>\n",
        "      <td><code>for</code></td>\n",
        "      <td><code>from</code></td>\n",
        "      <td><code>global</code></td>\n",
        "      <td><code>if</code></td>\n",
        "      <td><code>import</code></td>\n",
        "      <td><code>in</code></td>\n",
        "  </tr>\n",
        "  <tr>\n",
        "      <td><code>is</code></td>\n",
        "      <td><code>lambda</code></td>\n",
        "      <td><code>nonlocal</code></td>\n",
        "      <td><code>not</code></td>\n",
        "      <td><code>or</code></td>\n",
        "      <td><code>pass</code></td>\n",
        "      <td><code>raise</code></td>\n",
        "  </tr>    \n",
        "  <tr>\n",
        "      <td><code>return</code></td>\n",
        "      <td><code>try</code></td>\n",
        "      <td><code>while</code></td>\n",
        "      <td><code>with</code></td>\n",
        "      <td><code>yield</code></td>\n",
        "  </tr>    \n",
        "</table>\n",
        "Python does not allow you to use these words as variables as they are specific words used for commands."
      ],
      "metadata": {
        "id": "-TgymkhlC8zm"
      }
    },
    {
      "cell_type": "markdown",
      "source": [
        "I've been ask before about variable naming conventions. In general, you want your variables to have informative names. This way it's easier to understand what they are for when you read through your code. Our example \"var\" is actually bad practice. We would want to name our variables based off the information they represent, like \"data_csv = \"ashleysData.csv\". Programmers tend to also name everything by a structure known as \"Camelcase\". That is for each word in a name should start with lowercase followed by uppercase: ashleysDataFinal. Some people also like to use underscores instead: ashleys_data_final. Spaces do not work, since python will read them as separate variables: kks data final. "
      ],
      "metadata": {
        "id": "kUi4rAsJqWyd"
      }
    },
    {
      "cell_type": "markdown",
      "source": [
        "<div class=\"alert alert-info\"><b>Quiz Task</b>: Instead of simply giving you the other rules for creating variables, use trial and error figure out what works and what doesn't. Are variables case-sensitive? Do numbers and symbols (e.g., %, ^, -) work, and if so, where? Derive <b>three</b> rules about variables and write these on your quiz.</div>"
      ],
      "metadata": {
        "id": "xJnqy-e2af97"
      }
    },
    {
      "cell_type": "code",
      "source": [
        ""
      ],
      "metadata": {
        "id": "0k5EOIgSakDe"
      },
      "execution_count": null,
      "outputs": []
    },
    {
      "cell_type": "markdown",
      "source": [
        "# About this notebook\n",
        "* This notebook is largely derived from UCSD COGS18 Materials, created by Tom Donoghue & Shannon Ellis, as well as [CS5 Green](https://www.cs.hmc.edu/twiki/bin/view/CS5Green) at Harvey Mudd.\n",
        "\n",
        "* For more useful information, check out Jupyter Notebooks \n",
        "<a href=\"https://www.dataquest.io/blog/jupyter-notebook-tips-tricks-shortcuts/\" class=\"alert-link\">tips & tricks</a>\n",
        ", and more information on how \n",
        "<a href=\"http://jupyter.readthedocs.io/en/latest/architecture/how_jupyter_ipython_work.html\" class=\"alert-link\">notebooks work</a>."
      ],
      "metadata": {
        "id": "pkqHlq68a_SD"
      }
    }
  ]
}
