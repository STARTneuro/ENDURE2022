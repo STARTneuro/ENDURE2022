{
 "cells": [
  {
   "cell_type": "markdown",
   "id": "661ce737",
   "metadata": {},
   "source": [
    "### Day 1 Tasks\n",
    "\n",
    "1. Create the following variables:\n",
    "- a variable called `number` that stores the value 57\n",
    "- a variable called `decimal` that stores the value 9.32\n",
    "- a variable called `word` that stores the value 'ENDURE2022'\n",
    "- a variable called `int_dec`, created by casting `decimal` into an int\n",
    "\n",
    "2. Create four different lists:\n",
    "\n",
    "- A list called `string_list` that contains three strings for three of your favorite foods\n",
    "- A list called `float_list` that contains three float numbers (can by any floats)\n",
    "- A list called `int_list` that contains three integers (can be any integers)\n",
    "- A `nested_list` which contains the three lists you created above."
   ]
  },
  {
   "cell_type": "code",
   "execution_count": null,
   "id": "fbac9179",
   "metadata": {},
   "outputs": [],
   "source": [
    "# Write your code here (you may create additional code cells as needed)\n"
   ]
  },
  {
   "cell_type": "markdown",
   "id": "a6af58fa",
   "metadata": {},
   "source": [
    "3. Run the cell below to assign the following lists. Then, do the following using indexing:\n",
    "\n",
    "- Store the first value in `list_1` a variable called `index_1`\n",
    "- Store the last value in `list_2` to a variable called `index_2`\n",
    "- Store the first four values of `list_3` to a variable called `index_3`\n",
    "- Store the last four values of `list_4` to a variable called `index_4`"
   ]
  },
  {
   "cell_type": "code",
   "execution_count": null,
   "id": "67506601",
   "metadata": {},
   "outputs": [],
   "source": [
    "# Run this cell\n",
    "list_1 = [10, 20, 30, 40]\n",
    "list_2 = [13, 15, 17, 19, 21, 23]\n",
    "list_3 = [1, 2, 3, 4, 5, 6, 7, 8, 9, 10, 11]\n",
    "list_4 = [21, 9, 98, 289, 938]"
   ]
  },
  {
   "cell_type": "code",
   "execution_count": 2,
   "id": "35c6fe1a",
   "metadata": {},
   "outputs": [],
   "source": [
    "# Index & slice lists here\n"
   ]
  },
  {
   "cell_type": "markdown",
   "id": "55742f22",
   "metadata": {},
   "source": [
    "4. In the cell below, create a gene dictionary called gene_dict for three different genes from the list below. For each entry, the key should be a string that is the gene symbol, and the value should be the full name.\n",
    "\n",
    "| Symbol | Full name                                |\n",
    "|--------|------------------------------------------|\n",
    "| BDNF   | brain derived neurotropic factor         |\n",
    "| DISC1  | disrupted in schizophrenia 1             |\n",
    "| PAX5   | paired box 5                             |\n",
    "| MECP2  | methyl CpG binding protein 2             |\n",
    "| SNAP25 | synaptosomal nerve-associated protein 25 |"
   ]
  },
  {
   "cell_type": "code",
   "execution_count": null,
   "id": "d0c9b147",
   "metadata": {},
   "outputs": [],
   "source": [
    "# Create your dictionary here\n"
   ]
  },
  {
   "cell_type": "markdown",
   "id": "ff7174ae",
   "metadata": {},
   "source": [
    "### Day 2 Tasks\n",
    "1. Rewrite the temperature code from the 06-Loops notebook using **range** *instead* of first creating a list.\n",
    "2. Package the temperature code up into a function (`check_temp`) that takes in a temperature (`temp`) and `temp_range`) as arguments to check whether or not a given temperature measurements is within a given range of temperatures.\n",
    "3. Write a function `count_vowels()` containing a loop that will loop through all the letters in `my_name` (the input parameter) and count all the vowels in your name."
   ]
  },
  {
   "cell_type": "code",
   "execution_count": 1,
   "id": "95fb0108",
   "metadata": {},
   "outputs": [],
   "source": [
    "# Write your code here (you may create additional code cells as needed)\n"
   ]
  }
 ],
 "metadata": {
  "kernelspec": {
   "display_name": "Python 3",
   "language": "python",
   "name": "python3"
  },
  "language_info": {
   "codemirror_mode": {
    "name": "ipython",
    "version": 3
   },
   "file_extension": ".py",
   "mimetype": "text/x-python",
   "name": "python",
   "nbconvert_exporter": "python",
   "pygments_lexer": "ipython3",
   "version": "3.7.3"
  }
 },
 "nbformat": 4,
 "nbformat_minor": 5
}
