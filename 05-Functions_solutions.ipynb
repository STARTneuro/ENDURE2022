{
 "cells": [
  {
   "cell_type": "markdown",
   "id": "317c8d94",
   "metadata": {},
   "source": [
    "# Functions\n",
    "In this notebook, we'll encounter functions. We'll ultimately put some of our knowledge from the past few sessions together to write a program that can compute the GC content of a nucleotide sequence.\n",
    "\n",
    "### **Outline**\n",
    "* Definition of a function\n",
    "* Anatomy of a function\n",
    "* Standard syntax of a function\n",
    "* Write a simple function\n",
    "* Example use case of a function: Calculate the GC content of a nucleotide sequence\n",
    "* Breakout room: Write a flexible functions\n",
    "\n",
    "\n",
    "### At the end of this notebook, you'll be able to:\n",
    "* [Write a simple function](#functions)\n",
    "* [Use these tools to test the GC content in a DNA string](#GCcontent)\n",
    "\n",
    "<hr>"
   ]
  },
  {
   "cell_type": "markdown",
   "id": "6590bef9",
   "metadata": {},
   "source": [
    "## Definition of a function\n",
    "\n",
    "#### A block of reusable code that only executes when it is called\n",
    "\n",
    "<div style=\"background: ghostwhite; font-size: 20px; padding: 10px; border: 1px solid lightgray; margin: 10px;\">\n",
    "  <b>Input -> Do something (usually to input)  - > Output</b>\n",
    "</div>"
   ]
  },
  {
   "cell_type": "markdown",
   "id": "acfb78a2",
   "metadata": {},
   "source": [
    "<a id=\"Functions\"></a>\n",
    "\n",
    "## Anatomy of a function\n",
    "\n",
    "![image](https://datascienceparichay.com/wp-content/uploads/2020/08/python-function-anatomy2-1024x576.png.webp)\n"
   ]
  },
  {
   "cell_type": "markdown",
   "id": "3802c26b",
   "metadata": {},
   "source": [
    "### Additional notes about functions\n",
    "* <b>Functions should do one thing and do it well</b>\n",
    "* function names use snakecase -> **my_function_name**\n",
    "* Functions default to return None\n",
    "* python has many built-in functions: see documentation https://docs.python.org/3/library/functions.html\n",
    "* We can add docstrings to define a function, by adding a statement wrapped by `'''` after the function name. This will come up when you use `help(function)`.\n",
    "* Functions can have many, many lines!\n",
    "* Functions can call other functions.\n",
    "* A **program** is one or more functions that work together."
   ]
  },
  {
   "cell_type": "markdown",
   "id": "98f4c7c9",
   "metadata": {},
   "source": [
    "\n",
    "Example: a simple function to square a number\n",
    "\n",
    "```\n",
    "    def square(x):        \n",
    "        x_squared = x**2\n",
    "        return x_squared\n",
    "```"
   ]
  },
  {
   "cell_type": "code",
   "execution_count": 2,
   "id": "8039c234",
   "metadata": {},
   "outputs": [],
   "source": [
    "# Define the function here\n",
    "def square(x):        \n",
    "    x_squared = x**2\n",
    "    return x_squared"
   ]
  },
  {
   "cell_type": "code",
   "execution_count": 3,
   "id": "070f9e99",
   "metadata": {},
   "outputs": [
    {
     "name": "stdout",
     "output_type": "stream",
     "text": [
      "9\n"
     ]
    }
   ],
   "source": [
    "# Run the function here\n",
    "number = square(3)\n",
    "print(number)"
   ]
  },
  {
   "cell_type": "markdown",
   "id": "ace2ac5d",
   "metadata": {},
   "source": [
    "### You can return the body of a function without storing a variable "
   ]
  },
  {
   "cell_type": "code",
   "execution_count": 4,
   "id": "d66c5956",
   "metadata": {},
   "outputs": [
    {
     "name": "stdout",
     "output_type": "stream",
     "text": [
      "16\n"
     ]
    }
   ],
   "source": [
    "def square(x):         \n",
    "    return x**2\n",
    "\n",
    "number_two = square(4)\n",
    "print(number_two)"
   ]
  },
  {
   "cell_type": "markdown",
   "id": "f24551eb",
   "metadata": {},
   "source": [
    "<a id=\"GCcontent\"></a>\n",
    "\n",
    "## Writing a program to count GC content\n",
    "\n",
    "*DNA Refresher*: Nucleic acids contain all of the information to build our cells. \n",
    "- In deoxyribonucleic acid (DNA) there are four different ones: adenine (A), cytosine (C), guanine (G), and thymine (T).\n",
    "- The sequence of a nucleic acid polymer is defined by the order of these bases, which we can represent with a string of A's, C's, G's, and T's. \n",
    "- A bonds to T,  and C bonds to G\n",
    "- [GC Content](https://en.wikipedia.org/wiki/GC-content) is a useful way to characterize DNA.\n",
    "\n",
    "Below, there is a function to calculate the GC content of a DNA string of length 4. It may include a few elements that we haven't discussed, but can you see what it's doing?"
   ]
  },
  {
   "cell_type": "code",
   "execution_count": 6,
   "id": "15cd3814",
   "metadata": {},
   "outputs": [],
   "source": [
    "# Write our function\n",
    "\n",
    "def gc_content_4(DNA):\n",
    "    \"\"\"\n",
    "    initialize counter, \n",
    "    for every element in DNA sequence, add one to counter\n",
    "    return counter/ length of DNA sequence\n",
    "    \"\"\"\n",
    "\n",
    "    counter = 0\n",
    "    if DNA[0] =='G' or DNA[0] == 'C':\n",
    "        counter += 1\n",
    "    if DNA[1] =='G' or DNA[1] == 'C':\n",
    "            counter += 1\n",
    "    if DNA[2] =='G' or DNA[2] == 'C':\n",
    "            counter += 1\n",
    "    if DNA[3] =='G' or DNA[3] == 'C':\n",
    "            counter += 1\n",
    "    \n",
    "    return counter/4"
   ]
  },
  {
   "cell_type": "code",
   "execution_count": 7,
   "id": "63a0063a",
   "metadata": {},
   "outputs": [
    {
     "data": {
      "text/plain": [
       "0.5"
      ]
     },
     "execution_count": 7,
     "metadata": {},
     "output_type": "execute_result"
    }
   ],
   "source": [
    "# Call our function\n",
    "gc_content_4('ATGC')"
   ]
  },
  {
   "cell_type": "markdown",
   "id": "748d4ea0",
   "metadata": {},
   "source": [
    "The `gc_content_4` uses **conditional statements** to test whether a given nucleotide in the sequence is equal to either a G or a C. In other words, it is doing a **value comparison**. If either of those conditions are met, it increments a **counter**. \n",
    "\n",
    "**Question**: Why can't we write `DNA[0] == 'C' or 'G'`?\n",
    "\n",
    "**Answer:** Python requires you to be esplict for each statement, including after or"
   ]
  },
  {
   "cell_type": "markdown",
   "id": "e8b0fe4d",
   "metadata": {},
   "source": [
    "## Breakout: Creating a flexible function\n",
    "If we put in a string that's not length 4, what happens?\n",
    "\n",
    "><b>Task:</b> Write a function (<code>gc_content_3_4</code>) that will work with strings of 3 or 4.</div>"
   ]
  },
  {
   "cell_type": "markdown",
   "id": "3bd94f68",
   "metadata": {},
   "source": [
    "#### With if/elif statement"
   ]
  },
  {
   "cell_type": "code",
   "execution_count": 12,
   "id": "3828ad9e",
   "metadata": {},
   "outputs": [
    {
     "name": "stdout",
     "output_type": "stream",
     "text": [
      "0.3333333333333333 0.75\n"
     ]
    }
   ],
   "source": [
    "def gc_content_3_4(DNA):\n",
    "    \"\"\"\n",
    "    initialize counter, \n",
    "    for every element in DNA sequence, add one to counter\n",
    "    return counter/ length of DNA sequence\n",
    "    \"\"\"\n",
    "\n",
    "    counter = 0\n",
    "    if DNA[0] =='G' or DNA[0] == 'C':\n",
    "        counter += 1\n",
    "    if DNA[1] =='G' or DNA[1] == 'C':\n",
    "            counter += 1\n",
    "    if DNA[2] =='G' or DNA[2] == 'C':\n",
    "            counter += 1\n",
    "    if len(DNA) ==3:\n",
    "        return counter/ 3\n",
    "\n",
    "\n",
    "    elif DNA[3] =='G' or DNA[3] == 'C':\n",
    "            counter += 1\n",
    "    \n",
    "    return counter/4\n",
    "\n",
    "seq_3 = 'ATG'\n",
    "seq_4 = 'CTGC'\n",
    "gc_content_seq3 = gc_content_3_4(seq_3)\n",
    "gc_content_seq4 = gc_content_3_4(seq_4)\n",
    "\n",
    "print(gc_content_seq3, gc_content_seq4)\n"
   ]
  },
  {
   "cell_type": "markdown",
   "id": "e15824a7",
   "metadata": {},
   "source": [
    "#### With if/else statement"
   ]
  },
  {
   "cell_type": "code",
   "execution_count": 14,
   "id": "dc1ac542",
   "metadata": {},
   "outputs": [
    {
     "name": "stdout",
     "output_type": "stream",
     "text": [
      "0.3333333333333333 0.75\n"
     ]
    }
   ],
   "source": [
    "def gc_content_3_4_else(DNA):\n",
    "    \"\"\"\n",
    "    initialize counter, \n",
    "    for every element in DNA sequence, add one to counter\n",
    "    return counter/ length of DNA sequence\n",
    "    \"\"\"\n",
    "\n",
    "    counter = 0\n",
    "    if DNA[0] =='G' or DNA[0] == 'C':\n",
    "        counter += 1\n",
    "    if DNA[1] =='G' or DNA[1] == 'C':\n",
    "            counter += 1\n",
    "    if DNA[2] =='G' or DNA[2] == 'C':\n",
    "            counter += 1\n",
    "    if len(DNA) ==3:\n",
    "        return counter/ 3\n",
    "\n",
    "\n",
    "    else:\n",
    "        DNA[3] =='G' or DNA[3] == 'C'\n",
    "        counter += 1\n",
    "    \n",
    "    return counter/4\n",
    "\n",
    "gc_content_seq3_else = gc_content_3_4_else(seq_3)\n",
    "gc_content_seq4_else = gc_content_3_4_else(seq_4)\n",
    "\n",
    "print(gc_content_seq3_else, gc_content_seq4_else)"
   ]
  },
  {
   "cell_type": "markdown",
   "id": "35884d10",
   "metadata": {},
   "source": [
    "#### With for loop, to process DNA sequence of any length"
   ]
  },
  {
   "cell_type": "code",
   "execution_count": 17,
   "id": "477b9f4e",
   "metadata": {},
   "outputs": [
    {
     "name": "stdout",
     "output_type": "stream",
     "text": [
      "0.5384615384615384\n"
     ]
    }
   ],
   "source": [
    "def gc_content(DNA):\n",
    "    counter = 0\n",
    "    for i in range(len(DNA)):\n",
    "        if DNA[i] =='G' or DNA[i] =='C':\n",
    "            counter += 1\n",
    "    return counter/len(DNA)\n",
    "\n",
    "\n",
    "seq = 'ATGCGTGCAGACT'\n",
    "\n",
    "gc_con = gc_content(seq)\n",
    "print(gc_con)\n"
   ]
  },
  {
   "cell_type": "markdown",
   "id": "42d140e6",
   "metadata": {},
   "source": [
    "## Additional Resources\n",
    "* <a href=\"https://merely-useful.github.io/py/py-dev-development.html\">Merely Useful Functions</a>\n",
    "* <a href=\"https://www.python-course.eu/python3_functions.php\">Python Course: Functions</a>\n",
    "* <a href=\"https://swcarpentry.github.io/python-novice-plotting/17-conditionals/\">Software Carpentries Conditionals</a>\n",
    "\n",
    "## About this notebook\n",
    "* This notebook is largely derived from UCSD COGS18 Materials, created by Tom Donoghue & Shannon Ellis, as well as exercises in [*Computing for Biologists*](https://www.cambridge.org/highereducation/books/computing-for-biologists/5B08EEEE2AE8A602113A8F225E89F5FD#overview)."
   ]
  }
 ],
 "metadata": {
  "kernelspec": {
   "display_name": "Python 3",
   "language": "python",
   "name": "python3"
  },
  "language_info": {
   "codemirror_mode": {
    "name": "ipython",
    "version": 3
   },
   "file_extension": ".py",
   "mimetype": "text/x-python",
   "name": "python",
   "nbconvert_exporter": "python",
   "pygments_lexer": "ipython3",
   "version": "3.9.12"
  },
  "vscode": {
   "interpreter": {
    "hash": "d68cdcbd40fa665f638af0a88823edacf76a4347faef4c2d4b3900886c1c2087"
   }
  }
 },
 "nbformat": 4,
 "nbformat_minor": 5
}
