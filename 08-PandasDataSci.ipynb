{
 "cells": [
  {
   "cell_type": "markdown",
   "metadata": {
    "slideshow": {
     "slide_type": "slide"
    }
   },
   "source": [
    "# Pandas\n",
    "In this notebook, we'll encounter a very useful package for scientific computing in Python: Pandas. We can think of Pandas as \"numpy with labels\". This package is especially useful for data science and biology for a few reasons:\n",
    "* Great for real-world, heterogeneous data\n",
    "* Similar to Excel spreadsheets (but way faster!)\n",
    "* Smartly deals with missing data\n",
    "\n",
    "### At the end of this notebook, you'll be able to:\n",
    "* Create & manipulate Pandas dataframes\n",
    "* Load a tabular file of genetic data into a Pandas dataframe\n",
    "* Index and subset Pandas dataframes\n",
    "* Generate descriptive statistics for Pandas dataframes\n",
    "<hr>"
   ]
  },
  {
   "cell_type": "markdown",
   "metadata": {
    "slideshow": {
     "slide_type": "slide"
    }
   },
   "source": [
    "## Importing packages\n",
    "\n",
    "Before we can pandas, we need to import it. The convention is to import `pandas` as `pd`."
   ]
  },
  {
   "cell_type": "code",
   "execution_count": null,
   "metadata": {
    "slideshow": {
     "slide_type": "fragment"
    }
   },
   "outputs": [],
   "source": [
    "# Import packages\n",
    "import pandas as pd\n",
    "\n",
    "# Use whos 'magic command' to see available modules\n",
    "%whos"
   ]
  },
  {
   "cell_type": "markdown",
   "metadata": {
    "slideshow": {
     "slide_type": "slide"
    }
   },
   "source": [
    "## Create and Manipulate Dataframes \n",
    "The two data structures of Pandas are the `Series` and the `DataFrame`. A `Series` is a one-dimensional onject similar to a list. A `DataFrame` can be thought of as a two-dimensional numpy array or a collection of `Series` objects. Series and dataframes can contain multiple different data types such as integers, strings, and floats, similar to an Excel spreadsheet. Pandas also supports `string` lables unlike numpy arrays which only have numeric labels for their rows and columns. For a more in depth explanation, please visit the [Introduction to Data Structures](https://pandas.pydata.org/pandas-docs/stable/user_guide/dsintro.html) section in the Pandas User Guide. \n",
    "\n",
    "You can create a Pandas dataframe by inputting dictionaries into the Pandas function `pd.DataFrame()`, by reading files, or through functions built into the Pandas package. The function [`pd.read_csv()`](https://pandas.pydata.org/pandas-docs/stable/reference/api/pandas.read_csv.html) reads a comma- or tab-separated file and returns it as a `dataframe`."
   ]
  },
  {
   "cell_type": "markdown",
   "metadata": {},
   "source": [
    "### Creating a data from a dictionary\n",
    "\n",
    "Below, we'll create a dataframe from a dictionary. Since this is quite a bit to fit into one cell, we're also using a trick where we use a pair of open parentheses to tell Python to *ignore* the line breaks here."
   ]
  },
  {
   "cell_type": "code",
   "execution_count": null,
   "metadata": {},
   "outputs": [],
   "source": [
    "# Create the dictionary\n",
    "students = (\n",
    "  {'FIRST_NAME': ['Daniel', 'Ben', 'Kavita', 'Linda',\n",
    "                  'Omar','Jane', 'Felicia', 'Rachel',\n",
    "                  'Bob'],\n",
    "   'LAST_NAME': ['Smith', 'Leibstrom', 'Kanabar', 'Thiel',\n",
    "                 'Reichel', 'OConner', 'Rao', 'Crock',\n",
    "                 'McDonald'],\n",
    "   'YEAR': [1, 1, 1, 4, 2, 2, 3, 1, 1],\n",
    "   'HOME_STATE': ['NY', 'NY', 'PA', 'CA', 'OK', 'HI',\n",
    "                  'NY','FL', 'FL'],\n",
    "   'AGE': [18, 19, 19, 22, 21, 19, 20, 17, 18],\n",
    "   'CALC_101_FINAL': [90, 80, None, 60, 70, None, None,\n",
    "                      None, 98],\n",
    "   'ENGLISH_101_FINAL': [80, None, None, 40, 50, None,\n",
    "                         None, 60, 65]} )\n",
    "\n",
    "# Create the dataframe from our dictionary\n",
    "students_df = \n",
    "students_df"
   ]
  },
  {
   "cell_type": "markdown",
   "metadata": {},
   "source": [
    "We can access a list of all of the students' last names using the following notation: `df['column_name']`."
   ]
  },
  {
   "cell_type": "code",
   "execution_count": null,
   "metadata": {},
   "outputs": [],
   "source": [
    "# Access LAST_NAME column\n",
    "lastnames = \n",
    "lastnames"
   ]
  },
  {
   "cell_type": "markdown",
   "metadata": {},
   "source": [
    "One column of the dataframe is a **series**."
   ]
  },
  {
   "cell_type": "code",
   "execution_count": null,
   "metadata": {},
   "outputs": [],
   "source": [
    "# Check type of column\n",
    "type(lastnames)"
   ]
  },
  {
   "cell_type": "markdown",
   "metadata": {},
   "source": [
    "### Reading from a file example\n",
    "Below we will create a dataframe by reading the file `mouse_cell_metrics.csv` which contains information on different cell types in the mouse. We'll use the `read_csv` function to import our gene expression data as a DataFrame.\n",
    "\n",
    ">**About this dataset:**\n",
    "This dataset was curated from data from [The Allen Institute for Brain Science](https://alleninstitute.org/what-we-do/brain-science/). You can play with this data and more [on their website](https://portal.brain-map.org/).  \n",
    "\n",
    "First, we'll use a package called `urllib` to download the data."
   ]
  },
  {
   "cell_type": "code",
   "execution_count": null,
   "metadata": {},
   "outputs": [],
   "source": [
    "import urllib.request\n",
    "\n",
    "data_url = 'https://raw.githubusercontent.com/ajuavinett/CellTypesLesson/master/utilities/mouse_cell_metrics.csv'"
   ]
  },
  {
   "cell_type": "markdown",
   "metadata": {},
   "source": [
    "What would happen if we ran `data_url`?\n",
    "\n",
    "a) open the link\n",
    "\n",
    "b) error\n",
    "\n",
    "c) print string of url\n",
    "\n",
    "d) nothing"
   ]
  },
  {
   "cell_type": "code",
   "execution_count": null,
   "metadata": {},
   "outputs": [],
   "source": [
    "data, headers = urllib.request.urlretrieve(data_url, 'cell_data.txt')"
   ]
  },
  {
   "cell_type": "markdown",
   "metadata": {},
   "source": [
    "Now, we can use `pd.read_csv` function to import our data as a `data_df`."
   ]
  },
  {
   "cell_type": "code",
   "execution_count": null,
   "metadata": {
    "slideshow": {
     "slide_type": "slide"
    }
   },
   "outputs": [],
   "source": [
    "# Read in the list of lists as a data frame\n",
    "# Note \"delimiter\" from loadtxt is \"sep\" here\n",
    "data_df = \n",
    "\n",
    "#Show the first five rows\n",
    "data_df.head()"
   ]
  },
  {
   "cell_type": "markdown",
   "metadata": {},
   "source": [
    "As you can see in the first five rows of the dataset above, this dataset contains observations about the following features:\n",
    "\n",
    "* (estimated) cell surface area (in µm^2)\n",
    "* dendrite type (spiny, aspiny, or sparsely spiny)\n",
    "* rheobase (in nA)\n",
    "* input resistance (in MOhms)\n",
    "* tau (in ms)\n",
    "\n",
    "Each row is a different cell that was recorded and measured.\n",
    "\n",
    "Below, we'll start manipulating the dataset so that we can see whether these features are related."
   ]
  },
  {
   "cell_type": "markdown",
   "metadata": {},
   "source": [
    "## Indexing Dataframes"
   ]
  },
  {
   "cell_type": "markdown",
   "metadata": {},
   "source": [
    "Indexing in Pandas works slightly different than in NumPy. Similar to a dictionary, we can index dataframes by their names. \n",
    "\n",
    "The syntax for indexing single locations in a dataframe is `dataframe.loc[row_label,column_label]`. To index an individual column, we use the shorthand syntax `dataframe.[column_label]`. To index an individual row, we use the syntax `dataframe.loc[row_label]`. To index by index #, we use the syntax `dataframe.iloc[index_number]`. Below are some examples on how to access rows, columns, and single values in our dataframe. For more information on indexing dataframes, visit the <a href = \"https://pandas.pydata.org/docs/user_guide/indexing.html#indexing\"> \"Indexing and selecting data\"</a> section in the Pandas User Guide."
   ]
  },
  {
   "cell_type": "code",
   "execution_count": null,
   "metadata": {},
   "outputs": [],
   "source": [
    "# Select a single column\n",
    "cell_surface_area = \n",
    "\n",
    "# What will cell_surface_area look like?\n",
    "\n",
    "cell_surface_area"
   ]
  },
  {
   "cell_type": "code",
   "execution_count": null,
   "metadata": {
    "scrolled": true
   },
   "outputs": [],
   "source": [
    "# Select a single row\n"
   ]
  },
  {
   "cell_type": "code",
   "execution_count": null,
   "metadata": {},
   "outputs": [],
   "source": [
    "# Select an individual value \n"
   ]
  },
  {
   "cell_type": "markdown",
   "metadata": {},
   "source": [
    "To select multiple different columns, you can use a `list` of all your columns of interest as so:"
   ]
  },
  {
   "cell_type": "markdown",
   "metadata": {},
   "source": [
    "## Subsetting dataframes"
   ]
  },
  {
   "cell_type": "markdown",
   "metadata": {},
   "source": [
    "Like NumPy arrays, we can subset our original dataframe to only include data that meets our criteria. Our dataframe has data on multiple different brain areas with many gene expression values. You can filter this dataframe using the following syntax:\n",
    "```\n",
    "new_df = original_df[original_df['Column of Interest'] == 'Desired Value']\n",
    "```\n",
    "In plain english, what this is saying is: save a dataframe from the original dataframe, where the original dataframe values in my Column of Interest are equal to my Desired Value. For more information on subsetting,  visit the <a href = \"https://pandas.pydata.org/docs/getting_started/intro_tutorials/03_subset_data.html\"> \"How do I select a subset of a DataFrame\"</a> section in the Pandas documentation. "
   ]
  },
  {
   "cell_type": "code",
   "execution_count": null,
   "metadata": {},
   "outputs": [],
   "source": [
    "data_df"
   ]
  },
  {
   "cell_type": "code",
   "execution_count": null,
   "metadata": {},
   "outputs": [],
   "source": [
    "# Create a dataframe with only aspiny neurons\n",
    "aspiny_cells = \n",
    "\n",
    "# What will aspiny_cells contain?\n",
    "\n",
    "aspiny_cells"
   ]
  },
  {
   "cell_type": "markdown",
   "metadata": {},
   "source": [
    "## DataFrame Methods"
   ]
  },
  {
   "cell_type": "markdown",
   "metadata": {},
   "source": [
    "Pandas has many useful methods that you can use on your data, including `describe`, `mean`, and more. To learn more about all the different methods that can be used to manipulate and analyze dataframes, please visit the <a href = \"https://pandas.pydata.org/docs/user_guide/index.html\"> Pandas User Guide </a>. We will demonstrate some of these methods below. "
   ]
  },
  {
   "cell_type": "markdown",
   "metadata": {},
   "source": [
    "The `describe` method returns descriptive statistics of all the columns in our dataframe. "
   ]
  },
  {
   "cell_type": "code",
   "execution_count": null,
   "metadata": {},
   "outputs": [],
   "source": []
  },
  {
   "cell_type": "markdown",
   "metadata": {},
   "source": [
    "The `mean` and `std` method return the mean and standard deviation of each column in the dataframe, respectfully. "
   ]
  },
  {
   "cell_type": "markdown",
   "metadata": {},
   "source": [
    "> **Task**: Determine whether any two metrics in this data (cell_surface_area, rheobase, input_resistance, or tau) are correlated by plotting them with `plt.scatter(x,y)` where `x` and `y` are your two metrics. Use the [scatter documentation](https://matplotlib.org/stable/api/_as_gen/matplotlib.pyplot.scatter.html) if you need to."
   ]
  },
  {
   "cell_type": "code",
   "execution_count": null,
   "metadata": {},
   "outputs": [],
   "source": [
    "# Plot your data here\n",
    "\n",
    "import matplotlib.pyplot as plt\n"
   ]
  },
  {
   "cell_type": "code",
   "execution_count": null,
   "metadata": {},
   "outputs": [],
   "source": [
    "# Final step: celebrate!\n",
    "from IPython.display import HTML\n",
    "HTML('<img src=\"https://media.giphy.com/media/l0MYt5jPR6QX5pnqM/giphy.gif\">')"
   ]
  },
  {
   "cell_type": "markdown",
   "metadata": {},
   "source": [
    "<hr>\n",
    "\n",
    "## Additional resources\n",
    "See the [Python Data Science Handbook](https://jakevdp.github.io/PythonDataScienceHandbook/03.00-introduction-to-pandas.html) for a more in depth exploration of Pandas, and of course, the [Pandas documentation](https://pandas.pydata.org/docs/user_guide/index.html)."
   ]
  }
 ],
 "metadata": {
  "kernelspec": {
   "display_name": "Python 3",
   "language": "python",
   "name": "python3"
  },
  "language_info": {
   "codemirror_mode": {
    "name": "ipython",
    "version": 3
   },
   "file_extension": ".py",
   "mimetype": "text/x-python",
   "name": "python",
   "nbconvert_exporter": "python",
   "pygments_lexer": "ipython3",
   "version": "3.7.3"
  },
  "rise": {
   "theme": "serif"
  }
 },
 "nbformat": 4,
 "nbformat_minor": 2
}
