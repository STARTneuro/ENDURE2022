{
 "cells": [
  {
   "cell_type": "markdown",
   "metadata": {
    "slideshow": {
     "slide_type": "slide"
    }
   },
   "source": [
    "# Pandas\n",
    "In this notebook, we'll encounter a very useful package for scientific computing in Python: Pandas. We can think of Pandas as \"numpy with labels\". This package is especially useful for data science and biology for a few reasons:\n",
    "* Great for real-world, heterogeneous data\n",
    "* Similar to Excel spreadsheets (but way faster!)\n",
    "* Smartly deals with missing data\n",
    "\n",
    "### At the end of this notebook, you'll be able to:\n",
    "* Create & manipulate Pandas dataframes\n",
    "* Load a tabular file of genetic data into a Pandas dataframe\n",
    "* Index and subset Pandas dataframes\n",
    "* Generate descriptive statistics for Pandas dataframes\n",
    "<hr>"
   ]
  },
  {
   "cell_type": "markdown",
   "metadata": {
    "slideshow": {
     "slide_type": "slide"
    }
   },
   "source": [
    "## Importing packages\n",
    "\n",
    "Before we can pandas, we need to import it. The convention is to import `pandas` as `pd`."
   ]
  },
  {
   "cell_type": "code",
   "execution_count": 1,
   "metadata": {
    "slideshow": {
     "slide_type": "fragment"
    }
   },
   "outputs": [
    {
     "name": "stdout",
     "output_type": "stream",
     "text": [
      "Variable   Type      Data/Info\n",
      "------------------------------\n",
      "pd         module    <module 'pandas' from '/A<...>ages/pandas/__init__.py'>\n"
     ]
    }
   ],
   "source": [
    "# Import packages\n",
    "import pandas as pd\n",
    "\n",
    "# Use whos 'magic command' to see available modules\n",
    "%whos"
   ]
  },
  {
   "cell_type": "markdown",
   "metadata": {
    "slideshow": {
     "slide_type": "slide"
    }
   },
   "source": [
    "## Create and Manipulate Dataframes \n",
    "The two data structures of Pandas are the `Series` and the `DataFrame`. A `Series` is a one-dimensional onject similar to a list. A `DataFrame` can be thought of as a two-dimensional numpy array or a collection of `Series` objects. Series and dataframes can contain multiple different data types such as integers, strings, and floats, similar to an Excel spreadsheet. Pandas also supports `string` lables unlike numpy arrays which only have numeric labels for their rows and columns. For a more in depth explanation, please visit the [Introduction to Data Structures](https://pandas.pydata.org/pandas-docs/stable/user_guide/dsintro.html) section in the Pandas User Guide. \n",
    "\n",
    "You can create a Pandas dataframe by inputting dictionaries into the Pandas function `pd.DataFrame()`, by reading files, or through functions built into the Pandas package. The function [`pd.read_csv()`](https://pandas.pydata.org/pandas-docs/stable/reference/api/pandas.read_csv.html) reads a comma- or tab-separated file and returns it as a `dataframe`."
   ]
  },
  {
   "cell_type": "markdown",
   "metadata": {},
   "source": [
    "### Creating a data from a dictionary\n",
    "\n",
    "Below, we'll create a dataframe from a dictionary. Since this is quite a bit to fit into one cell, we're also using a trick where we use a pair of open parentheses to tell Python to *ignore* the line breaks here."
   ]
  },
  {
   "cell_type": "code",
   "execution_count": 4,
   "metadata": {},
   "outputs": [
    {
     "data": {
      "text/html": [
       "<div>\n",
       "<style scoped>\n",
       "    .dataframe tbody tr th:only-of-type {\n",
       "        vertical-align: middle;\n",
       "    }\n",
       "\n",
       "    .dataframe tbody tr th {\n",
       "        vertical-align: top;\n",
       "    }\n",
       "\n",
       "    .dataframe thead th {\n",
       "        text-align: right;\n",
       "    }\n",
       "</style>\n",
       "<table border=\"1\" class=\"dataframe\">\n",
       "  <thead>\n",
       "    <tr style=\"text-align: right;\">\n",
       "      <th></th>\n",
       "      <th>FIRST_NAME</th>\n",
       "      <th>LAST_NAME</th>\n",
       "      <th>YEAR</th>\n",
       "      <th>HOME_STATE</th>\n",
       "      <th>AGE</th>\n",
       "      <th>CALC_101_FINAL</th>\n",
       "      <th>ENGLISH_101_FINAL</th>\n",
       "    </tr>\n",
       "  </thead>\n",
       "  <tbody>\n",
       "    <tr>\n",
       "      <th>0</th>\n",
       "      <td>Daniel</td>\n",
       "      <td>Smith</td>\n",
       "      <td>1</td>\n",
       "      <td>NY</td>\n",
       "      <td>18</td>\n",
       "      <td>90.0</td>\n",
       "      <td>80.0</td>\n",
       "    </tr>\n",
       "    <tr>\n",
       "      <th>1</th>\n",
       "      <td>Ben</td>\n",
       "      <td>Leibstrom</td>\n",
       "      <td>1</td>\n",
       "      <td>NY</td>\n",
       "      <td>19</td>\n",
       "      <td>80.0</td>\n",
       "      <td>NaN</td>\n",
       "    </tr>\n",
       "    <tr>\n",
       "      <th>2</th>\n",
       "      <td>Kavita</td>\n",
       "      <td>Kanabar</td>\n",
       "      <td>1</td>\n",
       "      <td>PA</td>\n",
       "      <td>19</td>\n",
       "      <td>NaN</td>\n",
       "      <td>NaN</td>\n",
       "    </tr>\n",
       "    <tr>\n",
       "      <th>3</th>\n",
       "      <td>Linda</td>\n",
       "      <td>Thiel</td>\n",
       "      <td>4</td>\n",
       "      <td>CA</td>\n",
       "      <td>22</td>\n",
       "      <td>60.0</td>\n",
       "      <td>40.0</td>\n",
       "    </tr>\n",
       "    <tr>\n",
       "      <th>4</th>\n",
       "      <td>Omar</td>\n",
       "      <td>Reichel</td>\n",
       "      <td>2</td>\n",
       "      <td>OK</td>\n",
       "      <td>21</td>\n",
       "      <td>70.0</td>\n",
       "      <td>50.0</td>\n",
       "    </tr>\n",
       "    <tr>\n",
       "      <th>5</th>\n",
       "      <td>Jane</td>\n",
       "      <td>OConner</td>\n",
       "      <td>2</td>\n",
       "      <td>HI</td>\n",
       "      <td>19</td>\n",
       "      <td>NaN</td>\n",
       "      <td>NaN</td>\n",
       "    </tr>\n",
       "    <tr>\n",
       "      <th>6</th>\n",
       "      <td>Felicia</td>\n",
       "      <td>Rao</td>\n",
       "      <td>3</td>\n",
       "      <td>NY</td>\n",
       "      <td>20</td>\n",
       "      <td>NaN</td>\n",
       "      <td>NaN</td>\n",
       "    </tr>\n",
       "    <tr>\n",
       "      <th>7</th>\n",
       "      <td>Rachel</td>\n",
       "      <td>Crock</td>\n",
       "      <td>1</td>\n",
       "      <td>FL</td>\n",
       "      <td>17</td>\n",
       "      <td>NaN</td>\n",
       "      <td>60.0</td>\n",
       "    </tr>\n",
       "    <tr>\n",
       "      <th>8</th>\n",
       "      <td>Bob</td>\n",
       "      <td>McDonald</td>\n",
       "      <td>1</td>\n",
       "      <td>FL</td>\n",
       "      <td>18</td>\n",
       "      <td>98.0</td>\n",
       "      <td>65.0</td>\n",
       "    </tr>\n",
       "  </tbody>\n",
       "</table>\n",
       "</div>"
      ],
      "text/plain": [
       "  FIRST_NAME  LAST_NAME  YEAR HOME_STATE  AGE  CALC_101_FINAL  \\\n",
       "0     Daniel      Smith     1         NY   18            90.0   \n",
       "1        Ben  Leibstrom     1         NY   19            80.0   \n",
       "2     Kavita    Kanabar     1         PA   19             NaN   \n",
       "3      Linda      Thiel     4         CA   22            60.0   \n",
       "4       Omar    Reichel     2         OK   21            70.0   \n",
       "5       Jane    OConner     2         HI   19             NaN   \n",
       "6    Felicia        Rao     3         NY   20             NaN   \n",
       "7     Rachel      Crock     1         FL   17             NaN   \n",
       "8        Bob   McDonald     1         FL   18            98.0   \n",
       "\n",
       "   ENGLISH_101_FINAL  \n",
       "0               80.0  \n",
       "1                NaN  \n",
       "2                NaN  \n",
       "3               40.0  \n",
       "4               50.0  \n",
       "5                NaN  \n",
       "6                NaN  \n",
       "7               60.0  \n",
       "8               65.0  "
      ]
     },
     "execution_count": 4,
     "metadata": {},
     "output_type": "execute_result"
    }
   ],
   "source": [
    "# Create the dictionary\n",
    "students = (\n",
    "  {'FIRST_NAME': ['Daniel', 'Ben', 'Kavita', 'Linda',\n",
    "                  'Omar','Jane', 'Felicia', 'Rachel',\n",
    "                  'Bob'],\n",
    "   'LAST_NAME': ['Smith', 'Leibstrom', 'Kanabar', 'Thiel',\n",
    "                 'Reichel', 'OConner', 'Rao', 'Crock',\n",
    "                 'McDonald'],\n",
    "   'YEAR': [1, 1, 1, 4, 2, 2, 3, 1, 1],\n",
    "   'HOME_STATE': ['NY', 'NY', 'PA', 'CA', 'OK', 'HI',\n",
    "                  'NY','FL', 'FL'],\n",
    "   'AGE': [18, 19, 19, 22, 21, 19, 20, 17, 18],\n",
    "   'CALC_101_FINAL': [90, 80, None, 60, 70, None, None,\n",
    "                      None, 98],\n",
    "   'ENGLISH_101_FINAL': [80, None, None, 40, 50, None,\n",
    "                         None, 60, 65]} )\n",
    "\n",
    "# Create the dataframe from our dictionary\n",
    "students_df = \n",
    "students_df"
   ]
  },
  {
   "cell_type": "markdown",
   "metadata": {},
   "source": [
    "We can access a list of all of the students' last names using the following notation: `df['column_name']`."
   ]
  },
  {
   "cell_type": "code",
   "execution_count": 5,
   "metadata": {},
   "outputs": [
    {
     "data": {
      "text/plain": [
       "0        Smith\n",
       "1    Leibstrom\n",
       "2      Kanabar\n",
       "3        Thiel\n",
       "4      Reichel\n",
       "5      OConner\n",
       "6          Rao\n",
       "7        Crock\n",
       "8     McDonald\n",
       "Name: LAST_NAME, dtype: object"
      ]
     },
     "execution_count": 5,
     "metadata": {},
     "output_type": "execute_result"
    }
   ],
   "source": [
    "# Access LAST_NAME column\n",
    "lastnames = \n",
    "lastnames"
   ]
  },
  {
   "cell_type": "markdown",
   "metadata": {},
   "source": [
    "One column of the dataframe is a **series**."
   ]
  },
  {
   "cell_type": "code",
   "execution_count": 6,
   "metadata": {},
   "outputs": [
    {
     "data": {
      "text/plain": [
       "pandas.core.series.Series"
      ]
     },
     "execution_count": 6,
     "metadata": {},
     "output_type": "execute_result"
    }
   ],
   "source": [
    "# Check type of column\n",
    "type(lastnames)"
   ]
  },
  {
   "cell_type": "markdown",
   "metadata": {},
   "source": [
    "### Reading from a file example\n",
    "Below we will create a dataframe by reading the file `mouse_cell_metrics.csv` which contains information on different cell types in the mouse. We'll use the `read_csv` function to import our gene expression data as a DataFrame.\n",
    "\n",
    ">**About this dataset:**\n",
    "This dataset was curated from data from [The Allen Institute for Brain Science](https://alleninstitute.org/what-we-do/brain-science/). You can play with this data and more [on their website](https://portal.brain-map.org/).  \n",
    "\n",
    "First, we'll use a package called `urllib` to download the data."
   ]
  },
  {
   "cell_type": "code",
   "execution_count": 4,
   "metadata": {},
   "outputs": [],
   "source": [
    "import urllib.request\n",
    "\n",
    "data_url = 'https://raw.githubusercontent.com/ajuavinett/CellTypesLesson/master/utilities/mouse_cell_metrics.csv'"
   ]
  },
  {
   "cell_type": "markdown",
   "metadata": {},
   "source": [
    "What would happen if we ran `data_url`?\n",
    "\n",
    "a) open the link\n",
    "\n",
    "b) error\n",
    "\n",
    "c) print string of url\n",
    "\n",
    "d) nothing"
   ]
  },
  {
   "cell_type": "code",
   "execution_count": 5,
   "metadata": {},
   "outputs": [],
   "source": [
    "data, headers = urllib.request.urlretrieve(data_url, 'cell_data.txt')"
   ]
  },
  {
   "cell_type": "markdown",
   "metadata": {},
   "source": [
    "Now, we can use `pd.read_csv` function to import our data as a `data_df`."
   ]
  },
  {
   "cell_type": "code",
   "execution_count": 6,
   "metadata": {
    "slideshow": {
     "slide_type": "slide"
    }
   },
   "outputs": [
    {
     "data": {
      "text/html": [
       "<div>\n",
       "<style scoped>\n",
       "    .dataframe tbody tr th:only-of-type {\n",
       "        vertical-align: middle;\n",
       "    }\n",
       "\n",
       "    .dataframe tbody tr th {\n",
       "        vertical-align: top;\n",
       "    }\n",
       "\n",
       "    .dataframe thead th {\n",
       "        text-align: right;\n",
       "    }\n",
       "</style>\n",
       "<table border=\"1\" class=\"dataframe\">\n",
       "  <thead>\n",
       "    <tr style=\"text-align: right;\">\n",
       "      <th></th>\n",
       "      <th>cell_surface_area</th>\n",
       "      <th>dendrite_type</th>\n",
       "      <th>rheobase</th>\n",
       "      <th>input_resistance</th>\n",
       "      <th>tau</th>\n",
       "    </tr>\n",
       "  </thead>\n",
       "  <tbody>\n",
       "    <tr>\n",
       "      <th>0</th>\n",
       "      <td>542.046417</td>\n",
       "      <td>aspiny</td>\n",
       "      <td>629.999997</td>\n",
       "      <td>107.630696</td>\n",
       "      <td>5.515311</td>\n",
       "    </tr>\n",
       "    <tr>\n",
       "      <th>1</th>\n",
       "      <td>494.036230</td>\n",
       "      <td>aspiny</td>\n",
       "      <td>29.999999</td>\n",
       "      <td>209.605296</td>\n",
       "      <td>62.705039</td>\n",
       "    </tr>\n",
       "    <tr>\n",
       "      <th>2</th>\n",
       "      <td>302.248338</td>\n",
       "      <td>aspiny</td>\n",
       "      <td>50.000001</td>\n",
       "      <td>594.843904</td>\n",
       "      <td>10.239005</td>\n",
       "    </tr>\n",
       "    <tr>\n",
       "      <th>3</th>\n",
       "      <td>605.346305</td>\n",
       "      <td>aspiny</td>\n",
       "      <td>50.000001</td>\n",
       "      <td>218.831968</td>\n",
       "      <td>45.660687</td>\n",
       "    </tr>\n",
       "    <tr>\n",
       "      <th>4</th>\n",
       "      <td>298.096557</td>\n",
       "      <td>spiny</td>\n",
       "      <td>30.000002</td>\n",
       "      <td>338.629120</td>\n",
       "      <td>35.177373</td>\n",
       "    </tr>\n",
       "  </tbody>\n",
       "</table>\n",
       "</div>"
      ],
      "text/plain": [
       "   cell_surface_area dendrite_type    rheobase  input_resistance        tau\n",
       "0         542.046417        aspiny  629.999997        107.630696   5.515311\n",
       "1         494.036230        aspiny   29.999999        209.605296  62.705039\n",
       "2         302.248338        aspiny   50.000001        594.843904  10.239005\n",
       "3         605.346305        aspiny   50.000001        218.831968  45.660687\n",
       "4         298.096557         spiny   30.000002        338.629120  35.177373"
      ]
     },
     "execution_count": 6,
     "metadata": {},
     "output_type": "execute_result"
    }
   ],
   "source": [
    "# Read in the list of lists as a data frame\n",
    "# Note \"delimiter\" from loadtxt is \"sep\" here\n",
    "data_df = \n",
    "\n",
    "#Show the first five rows\n",
    "data_df.head()"
   ]
  },
  {
   "cell_type": "markdown",
   "metadata": {},
   "source": [
    "As you can see in the first five rows of the dataset above, this dataset contains observations about the following features:\n",
    "\n",
    "* (estimated) cell surface area (in µm^2)\n",
    "* dendrite type (spiny, aspiny, or sparsely spiny)\n",
    "* rheobase (in nA)\n",
    "* input resistance (in MOhms)\n",
    "* tau (in ms)\n",
    "\n",
    "Each row is a different cell that was recorded and measured.\n",
    "\n",
    "Below, we'll start manipulating the dataset so that we can see whether these features are related."
   ]
  },
  {
   "cell_type": "markdown",
   "metadata": {},
   "source": [
    "## Indexing Dataframes"
   ]
  },
  {
   "cell_type": "markdown",
   "metadata": {},
   "source": [
    "Indexing in Pandas works slightly different than in NumPy. Similar to a dictionary, we can index dataframes by their names. \n",
    "\n",
    "The syntax for indexing single locations in a dataframe is `dataframe.loc[row_label,column_label]`. To index an individual column, we use the shorthand syntax `dataframe.[column_label]`. To index an individual row, we use the syntax `dataframe.loc[row_label]`. To index by index #, we use the syntax `dataframe.iloc[index_number]`. Below are some examples on how to access rows, columns, and single values in our dataframe. For more information on indexing dataframes, visit the <a href = \"https://pandas.pydata.org/docs/user_guide/indexing.html#indexing\"> \"Indexing and selecting data\"</a> section in the Pandas User Guide."
   ]
  },
  {
   "cell_type": "code",
   "execution_count": 8,
   "metadata": {},
   "outputs": [
    {
     "data": {
      "text/plain": [
       "0      542.046417\n",
       "1      494.036230\n",
       "2      302.248338\n",
       "3      605.346305\n",
       "4      298.096557\n",
       "          ...    \n",
       "206    340.474591\n",
       "207    603.481275\n",
       "208    449.498683\n",
       "209    454.638999\n",
       "210    277.366737\n",
       "Name: cell_surface_area, Length: 211, dtype: float64"
      ]
     },
     "execution_count": 8,
     "metadata": {},
     "output_type": "execute_result"
    }
   ],
   "source": [
    "# Select a single column\n",
    "cell_surface_area = \n",
    "\n",
    "# What will cell_surface_area look like?\n",
    "\n",
    "cell_surface_area"
   ]
  },
  {
   "cell_type": "code",
   "execution_count": 12,
   "metadata": {
    "scrolled": true
   },
   "outputs": [
    {
     "data": {
      "text/plain": [
       "cell_surface_area    542.046\n",
       "dendrite_type         aspiny\n",
       "rheobase                 630\n",
       "input_resistance     107.631\n",
       "tau                  5.51531\n",
       "Name: 0, dtype: object"
      ]
     },
     "execution_count": 12,
     "metadata": {},
     "output_type": "execute_result"
    }
   ],
   "source": [
    "# Select a single row\n"
   ]
  },
  {
   "cell_type": "code",
   "execution_count": 15,
   "metadata": {},
   "outputs": [
    {
     "data": {
      "text/plain": [
       "542.0464165551457"
      ]
     },
     "execution_count": 15,
     "metadata": {},
     "output_type": "execute_result"
    }
   ],
   "source": [
    "# Select an individual value \n"
   ]
  },
  {
   "cell_type": "markdown",
   "metadata": {},
   "source": [
    "To select multiple different columns, you can use a `list` of all your columns of interest as so:"
   ]
  },
  {
   "cell_type": "markdown",
   "metadata": {},
   "source": [
    "## Subsetting dataframes"
   ]
  },
  {
   "cell_type": "markdown",
   "metadata": {},
   "source": [
    "Like NumPy arrays, we can subset our original dataframe to only include data that meets our criteria. Our dataframe has data on multiple different brain areas with many gene expression values. You can filter this dataframe using the following syntax:\n",
    "```\n",
    "new_df = original_df[original_df['Column of Interest'] == 'Desired Value']\n",
    "```\n",
    "In plain english, what this is saying is: save a dataframe from the original dataframe, where the original dataframe values in my Column of Interest are equal to my Desired Value. For more information on subsetting,  visit the <a href = \"https://pandas.pydata.org/docs/getting_started/intro_tutorials/03_subset_data.html\"> \"How do I select a subset of a DataFrame\"</a> section in the Pandas documentation. "
   ]
  },
  {
   "cell_type": "code",
   "execution_count": 9,
   "metadata": {},
   "outputs": [
    {
     "data": {
      "text/html": [
       "<div>\n",
       "<style scoped>\n",
       "    .dataframe tbody tr th:only-of-type {\n",
       "        vertical-align: middle;\n",
       "    }\n",
       "\n",
       "    .dataframe tbody tr th {\n",
       "        vertical-align: top;\n",
       "    }\n",
       "\n",
       "    .dataframe thead th {\n",
       "        text-align: right;\n",
       "    }\n",
       "</style>\n",
       "<table border=\"1\" class=\"dataframe\">\n",
       "  <thead>\n",
       "    <tr style=\"text-align: right;\">\n",
       "      <th></th>\n",
       "      <th>cell_surface_area</th>\n",
       "      <th>dendrite_type</th>\n",
       "      <th>rheobase</th>\n",
       "      <th>input_resistance</th>\n",
       "      <th>tau</th>\n",
       "    </tr>\n",
       "  </thead>\n",
       "  <tbody>\n",
       "    <tr>\n",
       "      <th>0</th>\n",
       "      <td>542.046417</td>\n",
       "      <td>aspiny</td>\n",
       "      <td>629.999997</td>\n",
       "      <td>107.630696</td>\n",
       "      <td>5.515311</td>\n",
       "    </tr>\n",
       "    <tr>\n",
       "      <th>1</th>\n",
       "      <td>494.036230</td>\n",
       "      <td>aspiny</td>\n",
       "      <td>29.999999</td>\n",
       "      <td>209.605296</td>\n",
       "      <td>62.705039</td>\n",
       "    </tr>\n",
       "    <tr>\n",
       "      <th>2</th>\n",
       "      <td>302.248338</td>\n",
       "      <td>aspiny</td>\n",
       "      <td>50.000001</td>\n",
       "      <td>594.843904</td>\n",
       "      <td>10.239005</td>\n",
       "    </tr>\n",
       "    <tr>\n",
       "      <th>3</th>\n",
       "      <td>605.346305</td>\n",
       "      <td>aspiny</td>\n",
       "      <td>50.000001</td>\n",
       "      <td>218.831968</td>\n",
       "      <td>45.660687</td>\n",
       "    </tr>\n",
       "    <tr>\n",
       "      <th>4</th>\n",
       "      <td>298.096557</td>\n",
       "      <td>spiny</td>\n",
       "      <td>30.000002</td>\n",
       "      <td>338.629120</td>\n",
       "      <td>35.177373</td>\n",
       "    </tr>\n",
       "    <tr>\n",
       "      <th>...</th>\n",
       "      <td>...</td>\n",
       "      <td>...</td>\n",
       "      <td>...</td>\n",
       "      <td>...</td>\n",
       "      <td>...</td>\n",
       "    </tr>\n",
       "    <tr>\n",
       "      <th>206</th>\n",
       "      <td>340.474591</td>\n",
       "      <td>sparsely spiny</td>\n",
       "      <td>90.000000</td>\n",
       "      <td>173.966800</td>\n",
       "      <td>24.975323</td>\n",
       "    </tr>\n",
       "    <tr>\n",
       "      <th>207</th>\n",
       "      <td>603.481275</td>\n",
       "      <td>aspiny</td>\n",
       "      <td>150.000000</td>\n",
       "      <td>191.230304</td>\n",
       "      <td>22.133813</td>\n",
       "    </tr>\n",
       "    <tr>\n",
       "      <th>208</th>\n",
       "      <td>449.498683</td>\n",
       "      <td>sparsely spiny</td>\n",
       "      <td>70.000000</td>\n",
       "      <td>235.617120</td>\n",
       "      <td>23.790069</td>\n",
       "    </tr>\n",
       "    <tr>\n",
       "      <th>209</th>\n",
       "      <td>454.638999</td>\n",
       "      <td>aspiny</td>\n",
       "      <td>30.000002</td>\n",
       "      <td>342.283840</td>\n",
       "      <td>20.173749</td>\n",
       "    </tr>\n",
       "    <tr>\n",
       "      <th>210</th>\n",
       "      <td>277.366737</td>\n",
       "      <td>aspiny</td>\n",
       "      <td>200.000003</td>\n",
       "      <td>193.896336</td>\n",
       "      <td>5.987464</td>\n",
       "    </tr>\n",
       "  </tbody>\n",
       "</table>\n",
       "<p>211 rows × 5 columns</p>\n",
       "</div>"
      ],
      "text/plain": [
       "     cell_surface_area   dendrite_type    rheobase  input_resistance  \\\n",
       "0           542.046417          aspiny  629.999997        107.630696   \n",
       "1           494.036230          aspiny   29.999999        209.605296   \n",
       "2           302.248338          aspiny   50.000001        594.843904   \n",
       "3           605.346305          aspiny   50.000001        218.831968   \n",
       "4           298.096557           spiny   30.000002        338.629120   \n",
       "..                 ...             ...         ...               ...   \n",
       "206         340.474591  sparsely spiny   90.000000        173.966800   \n",
       "207         603.481275          aspiny  150.000000        191.230304   \n",
       "208         449.498683  sparsely spiny   70.000000        235.617120   \n",
       "209         454.638999          aspiny   30.000002        342.283840   \n",
       "210         277.366737          aspiny  200.000003        193.896336   \n",
       "\n",
       "           tau  \n",
       "0     5.515311  \n",
       "1    62.705039  \n",
       "2    10.239005  \n",
       "3    45.660687  \n",
       "4    35.177373  \n",
       "..         ...  \n",
       "206  24.975323  \n",
       "207  22.133813  \n",
       "208  23.790069  \n",
       "209  20.173749  \n",
       "210   5.987464  \n",
       "\n",
       "[211 rows x 5 columns]"
      ]
     },
     "execution_count": 9,
     "metadata": {},
     "output_type": "execute_result"
    }
   ],
   "source": [
    "data_df"
   ]
  },
  {
   "cell_type": "code",
   "execution_count": 16,
   "metadata": {},
   "outputs": [
    {
     "data": {
      "text/html": [
       "<div>\n",
       "<style scoped>\n",
       "    .dataframe tbody tr th:only-of-type {\n",
       "        vertical-align: middle;\n",
       "    }\n",
       "\n",
       "    .dataframe tbody tr th {\n",
       "        vertical-align: top;\n",
       "    }\n",
       "\n",
       "    .dataframe thead th {\n",
       "        text-align: right;\n",
       "    }\n",
       "</style>\n",
       "<table border=\"1\" class=\"dataframe\">\n",
       "  <thead>\n",
       "    <tr style=\"text-align: right;\">\n",
       "      <th></th>\n",
       "      <th>cell_surface_area</th>\n",
       "      <th>dendrite_type</th>\n",
       "      <th>rheobase</th>\n",
       "      <th>input_resistance</th>\n",
       "      <th>tau</th>\n",
       "    </tr>\n",
       "  </thead>\n",
       "  <tbody>\n",
       "    <tr>\n",
       "      <th>0</th>\n",
       "      <td>542.046417</td>\n",
       "      <td>aspiny</td>\n",
       "      <td>629.999997</td>\n",
       "      <td>107.630696</td>\n",
       "      <td>5.515311</td>\n",
       "    </tr>\n",
       "    <tr>\n",
       "      <th>1</th>\n",
       "      <td>494.036230</td>\n",
       "      <td>aspiny</td>\n",
       "      <td>29.999999</td>\n",
       "      <td>209.605296</td>\n",
       "      <td>62.705039</td>\n",
       "    </tr>\n",
       "    <tr>\n",
       "      <th>2</th>\n",
       "      <td>302.248338</td>\n",
       "      <td>aspiny</td>\n",
       "      <td>50.000001</td>\n",
       "      <td>594.843904</td>\n",
       "      <td>10.239005</td>\n",
       "    </tr>\n",
       "    <tr>\n",
       "      <th>3</th>\n",
       "      <td>605.346305</td>\n",
       "      <td>aspiny</td>\n",
       "      <td>50.000001</td>\n",
       "      <td>218.831968</td>\n",
       "      <td>45.660687</td>\n",
       "    </tr>\n",
       "    <tr>\n",
       "      <th>5</th>\n",
       "      <td>479.567157</td>\n",
       "      <td>aspiny</td>\n",
       "      <td>190.000002</td>\n",
       "      <td>192.516256</td>\n",
       "      <td>11.871757</td>\n",
       "    </tr>\n",
       "    <tr>\n",
       "      <th>...</th>\n",
       "      <td>...</td>\n",
       "      <td>...</td>\n",
       "      <td>...</td>\n",
       "      <td>...</td>\n",
       "      <td>...</td>\n",
       "    </tr>\n",
       "    <tr>\n",
       "      <th>204</th>\n",
       "      <td>333.032748</td>\n",
       "      <td>aspiny</td>\n",
       "      <td>370.000000</td>\n",
       "      <td>153.565792</td>\n",
       "      <td>7.551964</td>\n",
       "    </tr>\n",
       "    <tr>\n",
       "      <th>205</th>\n",
       "      <td>443.954272</td>\n",
       "      <td>aspiny</td>\n",
       "      <td>70.000000</td>\n",
       "      <td>258.008800</td>\n",
       "      <td>36.373969</td>\n",
       "    </tr>\n",
       "    <tr>\n",
       "      <th>207</th>\n",
       "      <td>603.481275</td>\n",
       "      <td>aspiny</td>\n",
       "      <td>150.000000</td>\n",
       "      <td>191.230304</td>\n",
       "      <td>22.133813</td>\n",
       "    </tr>\n",
       "    <tr>\n",
       "      <th>209</th>\n",
       "      <td>454.638999</td>\n",
       "      <td>aspiny</td>\n",
       "      <td>30.000002</td>\n",
       "      <td>342.283840</td>\n",
       "      <td>20.173749</td>\n",
       "    </tr>\n",
       "    <tr>\n",
       "      <th>210</th>\n",
       "      <td>277.366737</td>\n",
       "      <td>aspiny</td>\n",
       "      <td>200.000003</td>\n",
       "      <td>193.896336</td>\n",
       "      <td>5.987464</td>\n",
       "    </tr>\n",
       "  </tbody>\n",
       "</table>\n",
       "<p>166 rows × 5 columns</p>\n",
       "</div>"
      ],
      "text/plain": [
       "     cell_surface_area dendrite_type    rheobase  input_resistance        tau\n",
       "0           542.046417        aspiny  629.999997        107.630696   5.515311\n",
       "1           494.036230        aspiny   29.999999        209.605296  62.705039\n",
       "2           302.248338        aspiny   50.000001        594.843904  10.239005\n",
       "3           605.346305        aspiny   50.000001        218.831968  45.660687\n",
       "5           479.567157        aspiny  190.000002        192.516256  11.871757\n",
       "..                 ...           ...         ...               ...        ...\n",
       "204         333.032748        aspiny  370.000000        153.565792   7.551964\n",
       "205         443.954272        aspiny   70.000000        258.008800  36.373969\n",
       "207         603.481275        aspiny  150.000000        191.230304  22.133813\n",
       "209         454.638999        aspiny   30.000002        342.283840  20.173749\n",
       "210         277.366737        aspiny  200.000003        193.896336   5.987464\n",
       "\n",
       "[166 rows x 5 columns]"
      ]
     },
     "execution_count": 16,
     "metadata": {},
     "output_type": "execute_result"
    }
   ],
   "source": [
    "# Create a dataframe with only aspiny neurons\n",
    "aspiny_cells = \n",
    "\n",
    "# What will aspiny_cells contain?\n",
    "\n",
    "aspiny_cells"
   ]
  },
  {
   "cell_type": "markdown",
   "metadata": {},
   "source": [
    "## DataFrame Methods"
   ]
  },
  {
   "cell_type": "markdown",
   "metadata": {},
   "source": [
    "Pandas has many useful methods that you can use on your data, including `describe`, `mean`, and more. To learn more about all the different methods that can be used to manipulate and analyze dataframes, please visit the <a href = \"https://pandas.pydata.org/docs/user_guide/index.html\"> Pandas User Guide </a>. We will demonstrate some of these methods below. "
   ]
  },
  {
   "cell_type": "markdown",
   "metadata": {},
   "source": [
    "The `describe` method returns descriptive statistics of all the columns in our dataframe. "
   ]
  },
  {
   "cell_type": "code",
   "execution_count": 17,
   "metadata": {},
   "outputs": [
    {
     "data": {
      "text/html": [
       "<div>\n",
       "<style scoped>\n",
       "    .dataframe tbody tr th:only-of-type {\n",
       "        vertical-align: middle;\n",
       "    }\n",
       "\n",
       "    .dataframe tbody tr th {\n",
       "        vertical-align: top;\n",
       "    }\n",
       "\n",
       "    .dataframe thead th {\n",
       "        text-align: right;\n",
       "    }\n",
       "</style>\n",
       "<table border=\"1\" class=\"dataframe\">\n",
       "  <thead>\n",
       "    <tr style=\"text-align: right;\">\n",
       "      <th></th>\n",
       "      <th>cell_surface_area</th>\n",
       "      <th>rheobase</th>\n",
       "      <th>input_resistance</th>\n",
       "      <th>tau</th>\n",
       "    </tr>\n",
       "  </thead>\n",
       "  <tbody>\n",
       "    <tr>\n",
       "      <th>count</th>\n",
       "      <td>211.000000</td>\n",
       "      <td>211.000000</td>\n",
       "      <td>211.000000</td>\n",
       "      <td>211.000000</td>\n",
       "    </tr>\n",
       "    <tr>\n",
       "      <th>mean</th>\n",
       "      <td>496.922279</td>\n",
       "      <td>165.687203</td>\n",
       "      <td>235.102125</td>\n",
       "      <td>15.418434</td>\n",
       "    </tr>\n",
       "    <tr>\n",
       "      <th>std</th>\n",
       "      <td>200.701162</td>\n",
       "      <td>134.638411</td>\n",
       "      <td>113.749420</td>\n",
       "      <td>11.271569</td>\n",
       "    </tr>\n",
       "    <tr>\n",
       "      <th>min</th>\n",
       "      <td>138.311378</td>\n",
       "      <td>20.000000</td>\n",
       "      <td>84.812208</td>\n",
       "      <td>3.944188</td>\n",
       "    </tr>\n",
       "    <tr>\n",
       "      <th>25%</th>\n",
       "      <td>360.111411</td>\n",
       "      <td>69.999999</td>\n",
       "      <td>168.205072</td>\n",
       "      <td>8.092669</td>\n",
       "    </tr>\n",
       "    <tr>\n",
       "      <th>50%</th>\n",
       "      <td>478.651560</td>\n",
       "      <td>129.999997</td>\n",
       "      <td>209.605296</td>\n",
       "      <td>11.573595</td>\n",
       "    </tr>\n",
       "    <tr>\n",
       "      <th>75%</th>\n",
       "      <td>578.526730</td>\n",
       "      <td>234.999999</td>\n",
       "      <td>268.665464</td>\n",
       "      <td>18.410931</td>\n",
       "    </tr>\n",
       "    <tr>\n",
       "      <th>max</th>\n",
       "      <td>1358.917278</td>\n",
       "      <td>800.000011</td>\n",
       "      <td>955.148736</td>\n",
       "      <td>74.898731</td>\n",
       "    </tr>\n",
       "  </tbody>\n",
       "</table>\n",
       "</div>"
      ],
      "text/plain": [
       "       cell_surface_area    rheobase  input_resistance         tau\n",
       "count         211.000000  211.000000        211.000000  211.000000\n",
       "mean          496.922279  165.687203        235.102125   15.418434\n",
       "std           200.701162  134.638411        113.749420   11.271569\n",
       "min           138.311378   20.000000         84.812208    3.944188\n",
       "25%           360.111411   69.999999        168.205072    8.092669\n",
       "50%           478.651560  129.999997        209.605296   11.573595\n",
       "75%           578.526730  234.999999        268.665464   18.410931\n",
       "max          1358.917278  800.000011        955.148736   74.898731"
      ]
     },
     "execution_count": 17,
     "metadata": {},
     "output_type": "execute_result"
    }
   ],
   "source": []
  },
  {
   "cell_type": "markdown",
   "metadata": {},
   "source": [
    "The `mean` and `std` method return the mean and standard deviation of each column in the dataframe, respectfully. "
   ]
  },
  {
   "cell_type": "markdown",
   "metadata": {},
   "source": [
    "> **Task**: Determine whether any two metrics in this data (cell_surface_area, rheobase, input_resistance, or tau) are correlated by plotting them with `plt.scatter(x,y)` where `x` and `y` are your two metrics. Use the [scatter documentation](https://matplotlib.org/stable/api/_as_gen/matplotlib.pyplot.scatter.html) if you need to."
   ]
  },
  {
   "cell_type": "code",
   "execution_count": 13,
   "metadata": {},
   "outputs": [
    {
     "data": {
      "text/plain": [
       "Text(0, 0.5, 'tau')"
      ]
     },
     "execution_count": 13,
     "metadata": {},
     "output_type": "execute_result"
    },
    {
     "data": {
      "image/png": "[encoded data removed]",
      "text/plain": [
       "<Figure size 432x288 with 1 Axes>"
      ]
     },
     "metadata": {
      "needs_background": "light"
     },
     "output_type": "display_data"
    }
   ],
   "source": [
    "# Plot your data here\n",
    "\n",
    "import matplotlib.pyplot as plt\n"
   ]
  },
  {
   "cell_type": "code",
   "execution_count": 10,
   "metadata": {},
   "outputs": [
    {
     "data": {
      "text/html": [
       "<img src=\"https://media.giphy.com/media/l0MYt5jPR6QX5pnqM/giphy.gif\">"
      ],
      "text/plain": [
       "<IPython.core.display.HTML object>"
      ]
     },
     "execution_count": 10,
     "metadata": {},
     "output_type": "execute_result"
    }
   ],
   "source": [
    "# Final step: celebrate!\n",
    "from IPython.display import HTML\n",
    "HTML('<img src=\"https://media.giphy.com/media/l0MYt5jPR6QX5pnqM/giphy.gif\">')"
   ]
  },
  {
   "cell_type": "markdown",
   "metadata": {},
   "source": [
    "<hr>\n",
    "\n",
    "## Additional resources\n",
    "See the [Python Data Science Handbook](https://jakevdp.github.io/PythonDataScienceHandbook/03.00-introduction-to-pandas.html) for a more in depth exploration of Pandas, and of course, the [Pandas documentation](https://pandas.pydata.org/docs/user_guide/index.html)."
   ]
  }
 ],
 "metadata": {
  "kernelspec": {
   "display_name": "Python 3",
   "language": "python",
   "name": "python3"
  },
  "language_info": {
   "codemirror_mode": {
    "name": "ipython",
    "version": 3
   },
   "file_extension": ".py",
   "mimetype": "text/x-python",
   "name": "python",
   "nbconvert_exporter": "python",
   "pygments_lexer": "ipython3",
   "version": "3.7.3"
  },
  "rise": {
   "theme": "serif"
  }
 },
 "nbformat": 4,
 "nbformat_minor": 2
}
