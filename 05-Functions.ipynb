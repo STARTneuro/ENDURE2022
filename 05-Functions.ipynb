{
 "cells": [
  {
   "cell_type": "markdown",
   "id": "317c8d94",
   "metadata": {},
   "source": [
    "# Functions\n",
    "In this notebook, we'll encounter functions. We'll ultimately put some of our knowledge from the past few sessions together to write a program that can compute the GC content of a nucleotide sequence.\n",
    " \n",
    "### At the end of this notebook, you'll be able to:\n",
    "* [Write a simple function](#functions)\n",
    "* [Use these tools to test the GC content in a DNA string](#GCcontent)\n",
    "\n",
    "<hr>"
   ]
  },
  {
   "cell_type": "markdown",
   "id": "acfb78a2",
   "metadata": {},
   "source": [
    "<a id=\"Functions\"></a>\n",
    "\n",
    "## Anatomy of a function\n",
    "\n",
    "![image](https://datascienceparichay.com/wp-content/uploads/2020/08/python-function-anatomy2-1024x576.png.webp)\n"
   ]
  },
  {
   "cell_type": "markdown",
   "id": "3802c26b",
   "metadata": {},
   "source": [
    "### Additional notes about functions\n",
    "* function names use snakecase -> **my_function_name**\n",
    "* python has many built-in functions: see documentation https://docs.python.org/3/library/functions.html\n",
    "* We can add docstrings to define a function, by adding a statement wrapped by `'''` after the function name. This will come up when you use `help(function)`.\n",
    "* Functions can have many, many lines!\n",
    "* Functions can call other functions.\n",
    "* A **program** is one or more functions that work together."
   ]
  },
  {
   "cell_type": "markdown",
   "id": "98f4c7c9",
   "metadata": {},
   "source": [
    "\n",
    "Example: a simple function to square a number\n",
    "\n",
    "```\n",
    "    def square(x):        \n",
    "        x_squared = x*2\n",
    "        return x_squared\n",
    "```"
   ]
  },
  {
   "cell_type": "code",
   "execution_count": 2,
   "id": "8039c234",
   "metadata": {},
   "outputs": [],
   "source": [
    "# Define the function here\n",
    "def square_func(x):\n",
    "    x_squared = x*2\n",
    "    return x_squared"
   ]
  },
  {
   "cell_type": "code",
   "execution_count": 6,
   "id": "070f9e99",
   "metadata": {},
   "outputs": [
    {
     "name": "stdout",
     "output_type": "stream",
     "text": [
      "4\n"
     ]
    }
   ],
   "source": [
    "# Run the function here\n",
    "square_2 = square(2)\n",
    "print(square_2)\n"
   ]
  },
  {
   "cell_type": "markdown",
   "id": "ace2ac5d",
   "metadata": {},
   "source": [
    "### You can return the body of a function without storing a variable "
   ]
  },
  {
   "cell_type": "code",
   "execution_count": 8,
   "id": "d66c5956",
   "metadata": {},
   "outputs": [
    {
     "name": "stdout",
     "output_type": "stream",
     "text": [
      "4\n"
     ]
    }
   ],
   "source": [
    "def other_square_func(x):\n",
    "    return x*2\n",
    "\n",
    "print(other_square_func(2))"
   ]
  },
  {
   "cell_type": "markdown",
   "id": "f24551eb",
   "metadata": {},
   "source": [
    "<a id=\"GCcontent\"></a>\n",
    "\n",
    "## Writing a program to count GC content\n",
    "\n",
    "*DNA Refresher*: Nucleic acids contain all of the information to build our cells. \n",
    "- In deoxyribonucleic acid (DNA) there are four different ones: adenine (A), cytosine (C), guanine (G), and thymine (T).\n",
    "- The sequence of a nucleic acid polymer is defined by the order of these bases, which we can represent with a string of A's, C's, G's, and T's. \n",
    "- A bonds to T,  and C bonds to G\n",
    "- [GC Content](https://en.wikipedia.org/wiki/GC-content) is a useful way to characterize DNA.\n",
    "\n",
    "Below, there is a function to calculate the GC content of a DNA string of length 4. It may include a few elements that we haven't discussed, but can you see what it's doing?"
   ]
  },
  {
   "cell_type": "code",
   "execution_count": 9,
   "id": "15cd3814",
   "metadata": {},
   "outputs": [],
   "source": [
    "# Write our function\n",
    "\n",
    "def GCcontent4(DNA):\n",
    "    \n",
    "    '''counts GC content for a DNA string of length 4'''\n",
    "    \n",
    "    counter = 0 # Initialize counter\n",
    "    \n",
    "    if DNA[0]=='G' or DNA[0]=='C':\n",
    "        counter = counter+1\n",
    "    if DNA[1]=='G' or DNA[1]=='C':\n",
    "        counter = counter+1\n",
    "    if DNA[2]=='G' or DNA[2]=='C':\n",
    "        counter = counter+1\n",
    "    if DNA[3]=='G' or DNA[3]=='C':\n",
    "        counter = counter+1\n",
    "        \n",
    "    return counter/4.0"
   ]
  },
  {
   "cell_type": "code",
   "execution_count": 14,
   "id": "63a0063a",
   "metadata": {},
   "outputs": [
    {
     "data": {
      "text/plain": [
       "0.5"
      ]
     },
     "execution_count": 14,
     "metadata": {},
     "output_type": "execute_result"
    }
   ],
   "source": [
    "# Call our function\n"
   ]
  },
  {
   "cell_type": "markdown",
   "id": "748d4ea0",
   "metadata": {},
   "source": [
    "The `GCcontent4` uses **conditional statements** to test whether a given nucleotide in the sequence is equal to either a G or a C. In other words, it is doing a **value comparison**. If either of those conditions are met, it increments a **counter**. \n",
    "\n",
    "**Question**: Why can't we write `DNA[0] == 'C' or 'G'`?"
   ]
  },
  {
   "cell_type": "code",
   "execution_count": null,
   "id": "45760443",
   "metadata": {},
   "outputs": [],
   "source": []
  },
  {
   "cell_type": "markdown",
   "id": "e8b0fe4d",
   "metadata": {},
   "source": [
    "## Creating a flexible function\n",
    "If we put in a string that's not length 4, what happens?\n",
    "\n",
    "><b>Task:</b> Write a function (<code>GCcontent3or4</code>) that will work with strings of 3 or 4.</div>"
   ]
  },
  {
   "cell_type": "code",
   "execution_count": 25,
   "id": "3828ad9e",
   "metadata": {},
   "outputs": [
    {
     "data": {
      "text/plain": [
       "0.5"
      ]
     },
     "execution_count": 25,
     "metadata": {},
     "output_type": "execute_result"
    }
   ],
   "source": [
    "# Write your function here\n",
    "def GCcontent(seq):\n",
    "    counter = 0 \n",
    "    for i in range(len(seq)):\n",
    "        if seq[i] == 'G' or seq[i] == 'C':\n",
    "            counter += 1\n",
    "\n",
    "    return counter/len(seq)\n",
    "\n",
    "GCcontent('ATGC')\n"
   ]
  },
  {
   "cell_type": "markdown",
   "id": "49bcec88",
   "metadata": {},
   "source": [
    "# In this function we used a for loop and an if statement. We'll learn more of that in the next session tomorrow! \n",
    "---"
   ]
  },
  {
   "cell_type": "markdown",
   "id": "42d140e6",
   "metadata": {},
   "source": [
    "## Additional Resources\n",
    "* <a href=\"https://merely-useful.github.io/py/py-dev-development.html\">Merely Useful Functions</a>\n",
    "* <a href=\"https://www.python-course.eu/python3_functions.php\">Python Course: Functions</a>\n",
    "* <a href=\"https://swcarpentry.github.io/python-novice-plotting/17-conditionals/\">Software Carpentries Conditionals</a>\n",
    "\n",
    "## About this notebook\n",
    "* This notebook is largely derived from UCSD COGS18 Materials, created by Tom Donoghue & Shannon Ellis, as well as exercises in [*Computing for Biologists*](https://www.cambridge.org/highereducation/books/computing-for-biologists/5B08EEEE2AE8A602113A8F225E89F5FD#overview)."
   ]
  }
 ],
 "metadata": {
  "kernelspec": {
   "display_name": "Python 3",
   "language": "python",
   "name": "python3"
  },
  "language_info": {
   "codemirror_mode": {
    "name": "ipython",
    "version": 3
   },
   "file_extension": ".py",
   "mimetype": "text/x-python",
   "name": "python",
   "nbconvert_exporter": "python",
   "pygments_lexer": "ipython3",
   "version": "3.7.3"
  },
  "vscode": {
   "interpreter": {
    "hash": "d68cdcbd40fa665f638af0a88823edacf76a4347faef4c2d4b3900886c1c2087"
   }
  }
 },
 "nbformat": 4,
 "nbformat_minor": 5
}
