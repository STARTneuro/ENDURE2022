{
  "cells": [
    {
      "cell_type": "markdown",
      "metadata": {
        "id": "i8Sqfkb9LnCX"
      },
      "source": [
        "# Data Structures\n",
        "\n",
        "In this notebook, we'll explore different types of data structures that Python can use to store information, namely **lists, tuples, and dictionaries.**"
      ]
    },
    {
      "cell_type": "markdown",
      "metadata": {
        "id": "Bqz319atLnCa"
      },
      "source": [
        "\n",
        "## At the end of this notebook, you'll be able to:\n",
        "* Compare & contrast the types of structures that Python uses to store data points\n",
        "* Recognize & create lists, tuples, and dictionaries in Python\n",
        "* Index, slice, cast, and mutate lists\n",
        "* Understand the implications of mutability and object-oriented programming\n",
        "\n",
        "<hr>"
      ]
    },
    {
      "cell_type": "markdown",
      "metadata": {
        "id": "u4mn0PhiLnCa"
      },
      "source": [
        "## Why Data Structures?"
      ]
    },
    {
      "cell_type": "markdown",
      "metadata": {
        "id": "vhW7yxvaLnCb"
      },
      "source": [
        "While there are many programming languages that operates through different instructions, they all share one common thing: data structures. \n",
        "\n",
        "A data structure is a data organization and storage format. It can be of various data types and can be used for searching, storing or comparing specific data."
      ]
    },
    {
      "cell_type": "markdown",
      "metadata": {
        "id": "yU0kBLVkLnCb"
      },
      "source": [
        "A good analogy for programming data structures are glass containers: they vary in size, properties and functionality. We also choose the best container depending on what needs to be stored.\n",
        "\n",
        "<center><img src=\"https://urldefense.com/v3/__https://drive.google.com/uc?id=1kCcDzpIn60HtAtk8NUqvKY4Wma_36oj3*5C__;JQ!!Mih3wA!GSTdHgWns6ptz8RsAECdDHBNdvm-oY4G0C_0GHHC-JF0bd_WfLHbHnvPBN2mjjIqosgRmPEzV1eaWpThb4kY$ ">"
      ]
    },
    {
      "cell_type": "markdown",
      "metadata": {
        "id": "uAmlUQxoLnCb"
      },
      "source": [
        "### Data Types"
      ]
    },
    {
      "cell_type": "markdown",
      "metadata": {
        "id": "xs8n8NInLnCb"
      },
      "source": [
        "Data types are items that help *classify* or *categorize* data. They represent what kind of *value* each item has, and can be assigned to an *object* that can be accessed later on. These items are called *variables*."
      ]
    },
    {
      "cell_type": "markdown",
      "metadata": {
        "id": "d2RguXD1LnCc"
      },
      "source": [
        "Here are some data structure types with examples:\n",
        "<center><img src=\"https://urldefense.com/v3/__https://drive.google.com/uc?id=1fiIM9_ydwnK8gYn1mi40QDEiljkZkKy3*5C__;JQ!!Mih3wA!GSTdHgWns6ptz8RsAECdDHBNdvm-oY4G0C_0GHHC-JF0bd_WfLHbHnvPBN2mjjIqosgRmPEzV1eaWkju1ZDO$ ">"
      ]
    },
    {
      "cell_type": "markdown",
      "metadata": {
        "id": "bgg-FMuXLnCc"
      },
      "source": [
        "Note how some structures can have *mixed* data types (like list and tuple), and others can only have one type (like integers or booleans)."
      ]
    },
    {
      "cell_type": "markdown",
      "metadata": {
        "id": "qQAIZQlvLnCc"
      },
      "source": [
        "## Lists\n",
        "A _list_ is a mutable collection of ordered items, that can be of mixed type.\n",
        "\n",
        "**Mutable** means that individual items in the object can be changed. Lists are mutable. Tuples and strings are not -- they're **immutable**.\n",
        "\n",
        "Lists are created using square brackets `[ ]`, and individual elements are separated by commas."
      ]
    },
    {
      "cell_type": "code",
      "execution_count": 7,
      "metadata": {
        "scrolled": true,
        "colab": {
          "base_uri": "https://urldefense.com/v3/__https://localhost:8080/__;!!Mih3wA!GSTdHgWns6ptz8RsAECdDHBNdvm-oY4G0C_0GHHC-JF0bd_WfLHbHnvPBN2mjjIqosgRmPEzV1eaWmbiCohi$ "
        },
        "id": "g6bDBuM0LnCd",
        "outputId": "de0135be-00de-4f26-ac04-47b5a3ee1600"
      },
      "outputs": [
        {
          "output_type": "execute_result",
          "data": {
            "text/plain": [
              "['watermelon', 'grapes', 'melon', 'mango']"
            ]
          },
          "metadata": {},
          "execution_count": 7
        }
      ],
      "source": [
        "# Create a list of fruits\n",
        "my_fruits = ['watermelon','grapes','melon','mango']\n",
        "my_fruits"
      ]
    },
    {
      "cell_type": "markdown",
      "metadata": {
        "id": "EzxAPX2oLnCe"
      },
      "source": [
        "### Useful list methods\n",
        "- Check the length of your list by using `len(my_list)`\n",
        "- Use `my_list.append()` to add elements to a list\n",
        "- Remove elements by index using `del my_list[index]`\n",
        "- Remove elements by value by using `my_list.remove('value')`\n",
        "- Sort by using `my_list.sort()`"
      ]
    },
    {
      "cell_type": "code",
      "execution_count": 8,
      "metadata": {
        "scrolled": true,
        "colab": {
          "base_uri": "https://urldefense.com/v3/__https://localhost:8080/__;!!Mih3wA!GSTdHgWns6ptz8RsAECdDHBNdvm-oY4G0C_0GHHC-JF0bd_WfLHbHnvPBN2mjjIqosgRmPEzV1eaWmbiCohi$ "
        },
        "id": "3vzzNYxPLnCf",
        "outputId": "8f1d1561-763a-4edb-f923-a7db909ae222"
      },
      "outputs": [
        {
          "output_type": "execute_result",
          "data": {
            "text/plain": [
              "['watermelon', 'grapes', 'melon', 'mango', 'apple']"
            ]
          },
          "metadata": {},
          "execution_count": 8
        }
      ],
      "source": [
        "# Try different list methods here\n",
        "my_fruits.append('apple')\n",
        "my_fruits"
      ]
    },
    {
      "cell_type": "markdown",
      "metadata": {
        "id": "E7fP07v4LnCf"
      },
      "source": [
        "### List indexing & slicing\n",
        "**Indexing** refers to selecting an item from within a collection (e.g., lists, tuples, and strings). Indexing is done by placing the **index number** in square brackets, directly after the list variable.\n",
        "\n",
        "For example, if `my_list = [1,3,5]`, we can get the second value using `my_list[1]`. (Remember that Python starts indexing at zero!)"
      ]
    },
    {
      "cell_type": "markdown",
      "metadata": {
        "id": "yomffSIELnCg"
      },
      "source": [
        "### Reminders\n",
        "- Python is zero-based (The first index is '0')\n",
        "- Negative indices index backwards through a collection"
      ]
    },
    {
      "cell_type": "code",
      "execution_count": 9,
      "metadata": {
        "scrolled": true,
        "colab": {
          "base_uri": "https://urldefense.com/v3/__https://localhost:8080/__;!!Mih3wA!GSTdHgWns6ptz8RsAECdDHBNdvm-oY4G0C_0GHHC-JF0bd_WfLHbHnvPBN2mjjIqosgRmPEzV1eaWmbiCohi$ ",
          "height": 37
        },
        "id": "CVUIYuXtLnCg",
        "outputId": "62ea9af8-a56c-4473-8ed9-81fd043daa94"
      },
      "outputs": [
        {
          "output_type": "execute_result",
          "data": {
            "text/plain": [
              "'watermelon'"
            ],
            "application/vnd.google.colaboratory.intrinsic+json": {
              "type": "string"
            }
          },
          "metadata": {},
          "execution_count": 9
        }
      ],
      "source": [
        "# Try indexing our list of fruits here\n",
        "my_fruits[0]"
      ]
    },
    {
      "cell_type": "markdown",
      "metadata": {
        "id": "cqGnjpfiLnCh"
      },
      "source": [
        "### If we want multiple items, we can **slice** the list.\n",
        "\n",
        "There are a few ways to slice:\n",
        "\n",
        "1. We can **slice** a part of a list using the syntax `[start:stop]`, which extracts characters between index start and stop (-1).\n",
        "\n",
        "**Notes**\n",
        "- `start` is __included__ then every element __until__ `stop` is included.\n",
        "- Negative values count backwards through the list."
      ]
    },
    {
      "cell_type": "markdown",
      "metadata": {
        "id": "BsZwkV3XLnCh"
      },
      "source": [
        "2. If we omit either (or both) of start or stop from `[start:stop]`, the default is the beginning and the end of the string, respectively, e.g. `[:3]`\n",
        "3. We can also define the step size (instead of default 1) using the syntax `[start:stop:step]`"
      ]
    },
    {
      "cell_type": "markdown",
      "metadata": {
        "id": "4lWRhkSuLnCh"
      },
      "source": [
        "<div class=\"alert alert-success\"><b>Task:</b> For our list of fruits, create three different slices, and save them as different variables:\n",
        "    \n",
        "1. A slice of the first two fruits.\n",
        "2. A slice of the middle three fruits.\n",
        "3. A slice of the last fruit.\n",
        "    \n",
        "</div>"
      ]
    },
    {
      "cell_type": "code",
      "execution_count": 10,
      "metadata": {
        "scrolled": true,
        "colab": {
          "base_uri": "https://urldefense.com/v3/__https://localhost:8080/__;!!Mih3wA!GSTdHgWns6ptz8RsAECdDHBNdvm-oY4G0C_0GHHC-JF0bd_WfLHbHnvPBN2mjjIqosgRmPEzV1eaWmbiCohi$ "
        },
        "id": "QBdC_db4LnCi",
        "outputId": "1cd8f20f-2783-443e-d8f6-d329495744f8"
      },
      "outputs": [
        {
          "output_type": "stream",
          "name": "stdout",
          "text": [
            "['watermelon', 'grapes', 'melon', 'mango', 'apple']\n",
            "['watermelon', 'grapes']\n",
            "['grapes', 'melon']\n",
            "['mango', 'apple']\n"
          ]
        }
      ],
      "source": [
        "# Your code here!\n",
        "print(my_fruits)\n",
        "print(my_fruits[0:2])\n",
        "print(my_fruits[1:3])\n",
        "print(my_fruits[3:])"
      ]
    },
    {
      "cell_type": "markdown",
      "metadata": {
        "id": "L6JfdPs3LnCi"
      },
      "source": [
        "### Checking length\n",
        "We can use the function `len( )` to check the length of lists.\n",
        "\n",
        "**Note**: We can also use this to get the number of characters in a string!"
      ]
    },
    {
      "cell_type": "code",
      "execution_count": 11,
      "metadata": {
        "colab": {
          "base_uri": "https://urldefense.com/v3/__https://localhost:8080/__;!!Mih3wA!GSTdHgWns6ptz8RsAECdDHBNdvm-oY4G0C_0GHHC-JF0bd_WfLHbHnvPBN2mjjIqosgRmPEzV1eaWmbiCohi$ "
        },
        "id": "JaaYmAADLnCi",
        "outputId": "c769fb1e-19bb-4745-ab04-2891e74d6d6b"
      },
      "outputs": [
        {
          "output_type": "execute_result",
          "data": {
            "text/plain": [
              "5"
            ]
          },
          "metadata": {},
          "execution_count": 11
        }
      ],
      "source": [
        "len(my_fruits)"
      ]
    },
    {
      "cell_type": "markdown",
      "metadata": {
        "id": "4K5Dqr1dLnCi"
      },
      "source": [
        "### Checking membership\n",
        "We can use `in` to see if an item exists in a list. The `in` operator checks whether an element is present in a collection, and can be negated with `not`. _(More on operators in the next lecture)_"
      ]
    },
    {
      "cell_type": "code",
      "execution_count": 12,
      "metadata": {
        "scrolled": true,
        "colab": {
          "base_uri": "https://urldefense.com/v3/__https://localhost:8080/__;!!Mih3wA!GSTdHgWns6ptz8RsAECdDHBNdvm-oY4G0C_0GHHC-JF0bd_WfLHbHnvPBN2mjjIqosgRmPEzV1eaWmbiCohi$ "
        },
        "id": "oYXY6EQOLnCj",
        "outputId": "afa773a5-ce01-4df6-9788-7fc739d2cd4b"
      },
      "outputs": [
        {
          "output_type": "execute_result",
          "data": {
            "text/plain": [
              "False"
            ]
          },
          "metadata": {},
          "execution_count": 12
        }
      ],
      "source": [
        "'strawberry' in my_fruits"
      ]
    },
    {
      "cell_type": "markdown",
      "metadata": {
        "id": "9NJ47KeILnCj"
      },
      "source": [
        "### Mutating lists\n",
        "After definition, we can update members of our list _because lists are mutable!_ This also impacts aliases of our lists."
      ]
    },
    {
      "cell_type": "code",
      "execution_count": 13,
      "metadata": {
        "scrolled": true,
        "colab": {
          "base_uri": "https://urldefense.com/v3/__https://localhost:8080/__;!!Mih3wA!GSTdHgWns6ptz8RsAECdDHBNdvm-oY4G0C_0GHHC-JF0bd_WfLHbHnvPBN2mjjIqosgRmPEzV1eaWmbiCohi$ "
        },
        "id": "bulph3q5LnCj",
        "outputId": "4ff98eb0-7d4d-4c38-8b54-8a7d1755b4cb"
      },
      "outputs": [
        {
          "output_type": "stream",
          "name": "stdout",
          "text": [
            "['watermelon', 'grapes', 'melon', 'mango', 'apple']\n",
            "['strawberry', 'grapes', 'melon', 'mango', 'apple']\n"
          ]
        }
      ],
      "source": [
        "print(my_fruits)\n",
        "my_fruits[0] = 'strawberry'\n",
        "print(my_fruits)"
      ]
    },
    {
      "cell_type": "markdown",
      "metadata": {
        "id": "1MQACDC3LnCj"
      },
      "source": [
        "### Creating lists of lists\n",
        "Sometimes, it's useful to create lists of lists. Often, if we import big datasets as lists, this is how it will be organized.\n",
        "\n",
        "![](https://urldefense.com/v3/__https://media.giphy.com/media/z1meXneq0oUh2/giphy.gif__;!!Mih3wA!GSTdHgWns6ptz8RsAECdDHBNdvm-oY4G0C_0GHHC-JF0bd_WfLHbHnvPBN2mjjIqosgRmPEzV1eaWvWvOe_e$ )"
      ]
    },
    {
      "cell_type": "code",
      "execution_count": 14,
      "metadata": {
        "scrolled": true,
        "colab": {
          "base_uri": "https://urldefense.com/v3/__https://localhost:8080/__;!!Mih3wA!GSTdHgWns6ptz8RsAECdDHBNdvm-oY4G0C_0GHHC-JF0bd_WfLHbHnvPBN2mjjIqosgRmPEzV1eaWmbiCohi$ "
        },
        "id": "Nqw3Wma6LnCj",
        "outputId": "8b77787e-7b0a-4212-8782-53b49e27073d"
      },
      "outputs": [
        {
          "output_type": "stream",
          "name": "stdout",
          "text": [
            "['gene1', 0.48, 0.55]\n"
          ]
        }
      ],
      "source": [
        "gene_1 = ['gene1',0.48,0.55]\n",
        "gene_2 = ['gene2',0.38,0.85]\n",
        "gene_3 = ['gene3',0.21,0.81]\n",
        "all_genes = [gene_1, gene_2, gene_3]\n",
        "\n",
        "# We can use this syntax to get a specific value\n",
        "print(all_genes[0])"
      ]
    },
    {
      "cell_type": "markdown",
      "metadata": {
        "id": "h5UWaPUxLnCk"
      },
      "source": [
        "## Tuples\n",
        "A _tuple_ is an **immutable** collection of ordered items, that can be of mixed type.\n",
        "\n",
        "* Tuples are created using parentheses.\n",
        "* Indexing works similar to lists."
      ]
    },
    {
      "cell_type": "code",
      "execution_count": 15,
      "metadata": {
        "scrolled": true,
        "colab": {
          "base_uri": "https://urldefense.com/v3/__https://localhost:8080/__;!!Mih3wA!GSTdHgWns6ptz8RsAECdDHBNdvm-oY4G0C_0GHHC-JF0bd_WfLHbHnvPBN2mjjIqosgRmPEzV1eaWmbiCohi$ "
        },
        "id": "hPfqOnUKLnCk",
        "outputId": "55472d4c-979f-47cd-e508-a6530a6ba8b6"
      },
      "outputs": [
        {
          "output_type": "execute_result",
          "data": {
            "text/plain": [
              "(['gene1', 0.48, 0.55], ['gene2', 0.38, 0.85], ['gene3', 0.21, 0.81])"
            ]
          },
          "metadata": {},
          "execution_count": 15
        }
      ],
      "source": [
        "# Define a tuple\n",
        "my_tuple = (gene_1,gene_2,gene_3)\n",
        "my_tuple"
      ]
    },
    {
      "cell_type": "markdown",
      "metadata": {
        "id": "BJk1u_18LnCk"
      },
      "source": [
        "<div class=\"alert alert-success\"><b>Question</b>: Before running the cell below, try to predict: What will be printed out from running this code?</div>"
      ]
    },
    {
      "cell_type": "code",
      "execution_count": 16,
      "metadata": {
        "scrolled": true,
        "colab": {
          "base_uri": "https://urldefense.com/v3/__https://localhost:8080/__;!!Mih3wA!GSTdHgWns6ptz8RsAECdDHBNdvm-oY4G0C_0GHHC-JF0bd_WfLHbHnvPBN2mjjIqosgRmPEzV1eaWmbiCohi$ "
        },
        "id": "fzPJ4Ll3LnCl",
        "outputId": "73b1ce88-9b1f-4703-a431-55cd4a70f2b2"
      },
      "outputs": [
        {
          "output_type": "stream",
          "name": "stdout",
          "text": [
            "Overlap\n"
          ]
        }
      ],
      "source": [
        "lst = ['a', 'b', 'c']\n",
        "tup = ('b', 'c', 'd')\n",
        "\n",
        "if lst[-1] == tup[-1]:\n",
        "    print('EndMatch')\n",
        "elif tup[1] in lst:\n",
        "    print('Overlap')\n",
        "elif len(lst) == tup:\n",
        "    print('Length')\n",
        "else:\n",
        "    print('None')"
      ]
    },
    {
      "cell_type": "markdown",
      "metadata": {
        "id": "bg8-UIJALnCn"
      },
      "source": [
        "### Casting between variable types\n",
        "We can use `list( )` or `tuple( )` to convert variables into different types. This is called **casting**.\n",
        "\n",
        "This is particularly useful when we use an operator like `range( )` which generates a range, but in the form of an **iterator**."
      ]
    },
    {
      "cell_type": "markdown",
      "metadata": {
        "id": "rHtrrIWgLnCo"
      },
      "source": [
        "**Note**: `range`, like indexing, is defined with `start`,`stop`, and `step`, but commas in between each. Remember that you can always use `?range` or `help(range)` to get details on how a function works. "
      ]
    },
    {
      "cell_type": "code",
      "execution_count": 17,
      "metadata": {
        "scrolled": true,
        "colab": {
          "base_uri": "https://urldefense.com/v3/__https://localhost:8080/__;!!Mih3wA!GSTdHgWns6ptz8RsAECdDHBNdvm-oY4G0C_0GHHC-JF0bd_WfLHbHnvPBN2mjjIqosgRmPEzV1eaWmbiCohi$ "
        },
        "id": "wYNPh50rLnCq",
        "outputId": "e09562d1-a8dd-4202-b915-8e22a46d7cf6"
      },
      "outputs": [
        {
          "output_type": "execute_result",
          "data": {
            "text/plain": [
              "range(0, 3)"
            ]
          },
          "metadata": {},
          "execution_count": 17
        }
      ],
      "source": [
        "# Test range here\n",
        "range(0,len(lst))"
      ]
    },
    {
      "cell_type": "markdown",
      "metadata": {
        "id": "lSyoV0s5LnCr"
      },
      "source": [
        "# Dictionaries\n",
        "Dictionaries are also like lists, except that each element is a key-value pair. The syntax for dictionaries is `{key1 : value1, ...}:`\n",
        "\n",
        "### When dictionaries are useful\n",
        "1. Flexible & efficient way to associate labels with heterogeneous data\n",
        "2. Use where data items have, or can be given, labels\n",
        "3. Appropriate for collecting data of different kinds (e.g., name, addresses, ages)\n",
        "\n",
        "> In the cell below, create a dictionary for three countries and capitals using the syntax `{country:capital,...}`. Remember that strings still need parentheses!\n",
        "\n",
        "**Note**: You can also create an empty dicitionary using `{}` and fill it using `dictionary['key'] = 'value'`."
      ]
    },
    {
      "cell_type": "code",
      "execution_count": 18,
      "metadata": {
        "colab": {
          "base_uri": "https://urldefense.com/v3/__https://localhost:8080/__;!!Mih3wA!GSTdHgWns6ptz8RsAECdDHBNdvm-oY4G0C_0GHHC-JF0bd_WfLHbHnvPBN2mjjIqosgRmPEzV1eaWmbiCohi$ "
        },
        "id": "xnRGXxSiLnCs",
        "outputId": "e1f1c30c-0d98-4f87-9a02-e2cd6ac7177b"
      },
      "outputs": [
        {
          "output_type": "execute_result",
          "data": {
            "text/plain": [
              "{'France': 'Paris', 'Spain': 'Madrid', 'United Kingdom': 'London'}"
            ]
          },
          "metadata": {},
          "execution_count": 18
        }
      ],
      "source": [
        "capitals = {'United Kingdom':'London','France':'Paris','Spain':'Madrid'}\n",
        "capitals"
      ]
    },
    {
      "cell_type": "markdown",
      "metadata": {
        "id": "LrZ4jU2OLnCs"
      },
      "source": [
        "<div class=\"alert alert-success\"><b>Question:</b> Before running the cell below, predict: What would the following code produce?</div>"
      ]
    },
    {
      "cell_type": "code",
      "execution_count": 19,
      "metadata": {
        "colab": {
          "base_uri": "https://urldefense.com/v3/__https://localhost:8080/__;!!Mih3wA!GSTdHgWns6ptz8RsAECdDHBNdvm-oY4G0C_0GHHC-JF0bd_WfLHbHnvPBN2mjjIqosgRmPEzV1eaWmbiCohi$ "
        },
        "id": "heyE-medLnCt",
        "outputId": "bf47df1f-c2ac-4731-bc2e-b781c53d6d4c"
      },
      "outputs": [
        {
          "output_type": "execute_result",
          "data": {
            "text/plain": [
              "{'France': 'Paris', 'Spain': 'Madrid', 'United Kingdom': 'England'}"
            ]
          },
          "metadata": {},
          "execution_count": 19
        }
      ],
      "source": [
        "capitals.update({'United Kingdom':'England'})\n",
        "capitals"
      ]
    },
    {
      "cell_type": "markdown",
      "metadata": {
        "id": "rCDXAu-tLnCt"
      },
      "source": [
        "<div class=\"alert alert-success\"><b>Task</b>: What happens if we look for a key that doesn't exist? Try this above."
      ]
    },
    {
      "cell_type": "code",
      "source": [
        "# Error because key does not exist\n",
        "capitals['US']"
      ],
      "metadata": {
        "colab": {
          "base_uri": "https://urldefense.com/v3/__https://localhost:8080/__;!!Mih3wA!GSTdHgWns6ptz8RsAECdDHBNdvm-oY4G0C_0GHHC-JF0bd_WfLHbHnvPBN2mjjIqosgRmPEzV1eaWmbiCohi$ ",
          "height": 181
        },
        "id": "KtH4XpKwM3GQ",
        "outputId": "a45a4f0a-4b2c-4f0a-a1f0-887309cc481e"
      },
      "execution_count": 20,
      "outputs": [
        {
          "output_type": "error",
          "ename": "KeyError",
          "evalue": "ignored",
          "traceback": [
            "\u001b[0;31m---------------------------------------------------------------------------\u001b[0m",
            "\u001b[0;31mKeyError\u001b[0m                                  Traceback (most recent call last)",
            "\u001b[0;32m<ipython-input-20-ccef832da02b>\u001b[0m in \u001b[0;36m<module>\u001b[0;34m()\u001b[0m\n\u001b[1;32m      1\u001b[0m \u001b[0;31m# Error because key does not exist\u001b[0m\u001b[0;34m\u001b[0m\u001b[0;34m\u001b[0m\u001b[0;34m\u001b[0m\u001b[0m\n\u001b[0;32m----> 2\u001b[0;31m \u001b[0mcapitals\u001b[0m\u001b[0;34m[\u001b[0m\u001b[0;34m'US'\u001b[0m\u001b[0;34m]\u001b[0m\u001b[0;34m\u001b[0m\u001b[0;34m\u001b[0m\u001b[0m\n\u001b[0m",
            "\u001b[0;31mKeyError\u001b[0m: 'US'"
          ]
        }
      ]
    },
    {
      "cell_type": "code",
      "source": [
        "# Add new key\n",
        "capitals['US'] = 'Washington'\n",
        "capitals"
      ],
      "metadata": {
        "colab": {
          "base_uri": "https://urldefense.com/v3/__https://localhost:8080/__;!!Mih3wA!GSTdHgWns6ptz8RsAECdDHBNdvm-oY4G0C_0GHHC-JF0bd_WfLHbHnvPBN2mjjIqosgRmPEzV1eaWmbiCohi$ "
        },
        "id": "8ftes331Ppqd",
        "outputId": "bfde25c1-ae85-4f5d-b3e0-bf78d3437d3e"
      },
      "execution_count": 21,
      "outputs": [
        {
          "output_type": "execute_result",
          "data": {
            "text/plain": [
              "{'France': 'Paris',\n",
              " 'Spain': 'Madrid',\n",
              " 'US': 'Washington',\n",
              " 'United Kingdom': 'England'}"
            ]
          },
          "metadata": {},
          "execution_count": 21
        }
      ]
    },
    {
      "cell_type": "markdown",
      "metadata": {
        "id": "pcpFTP3XLnCt"
      },
      "source": [
        "### Additional dictionary functionality\n",
        "- Use `capitals.update(morecapitals)` to add another dictionary entry\n",
        "- Use `del capitals['US']` to delete entries\n",
        "- Loop by key or values, or both"
      ]
    },
    {
      "cell_type": "markdown",
      "metadata": {
        "id": "fI2UPCprLnCt"
      },
      "source": [
        "## Recap"
      ]
    },
    {
      "cell_type": "markdown",
      "metadata": {
        "id": "KBZkWfNCLnCu"
      },
      "source": [
        "<b><font color='blue'> Breakout room activity! </font></b> Inspect and execute the codes below, and as a breakout room, find the error and a solution to them."
      ]
    },
    {
      "cell_type": "code",
      "execution_count": null,
      "metadata": {
        "id": "z1-Aa266LnCu"
      },
      "outputs": [],
      "source": [
        "# 1. Solution must be \"True\"\n",
        "multiple_list = [[1,2,3],4,5,6,(7,8,9)]\n",
        "\n",
        "print('-- Validate your solution --')\n",
        "len(multiple_list)==3 and [7,8,9] in multiple_list"
      ]
    },
    {
      "cell_type": "code",
      "execution_count": null,
      "metadata": {
        "id": "r149LJurLnCv"
      },
      "outputs": [],
      "source": [
        "# 2. Solution must be \"True\"\n",
        "# Hint: add the string * new list * to the end of multiple_list\n",
        "multiple_list.add([new list])\n",
        "\n",
        "print('-- Validate your solution --')\n",
        "type(multiple_list[-1]) == str"
      ]
    },
    {
      "cell_type": "code",
      "execution_count": null,
      "metadata": {
        "id": "C7Q2jd5YLnCv"
      },
      "outputs": [],
      "source": [
        "# 3. Solution must be \"True\"\n",
        "# Your code here\n",
        "\n",
        "print('-- Validate your solution --')\n",
        "multiple_list[0] == 'new list'"
      ]
    },
    {
      "cell_type": "code",
      "execution_count": null,
      "metadata": {
        "id": "RE_fSkWwLnCv"
      },
      "outputs": [],
      "source": [
        "# 4. Solution must be \"True\"\n",
        "# Hint: create a dictionary with numerical even numbers as keys and the next odd number as string value \n",
        "## (e.g. 2 and 3 as key and value)\n",
        "\n",
        "print('-- Validate your solution --')\n",
        "type(even_dic) == dict and all(type(key)==int for key in even_dic.keys()) and all(type(val)==str for val in even_dic.values())"
      ]
    },
    {
      "cell_type": "code",
      "execution_count": null,
      "metadata": {
        "id": "m30BuMlWLnCv"
      },
      "outputs": [],
      "source": [
        "# 5. Solution must be \"True\"\n",
        "# Hint: add a key-value to even_dic\n",
        "\n",
        "print('-- Validate your solution --')\n",
        "3 in even_dic.keys()"
      ]
    },
    {
      "cell_type": "markdown",
      "metadata": {
        "id": "Kk3xIsv3LnCv"
      },
      "source": [
        "<b><font color='blue'> How did you fix the previous code?"
      ]
    },
    {
      "cell_type": "code",
      "execution_count": 27,
      "metadata": {
        "colab": {
          "base_uri": "https://urldefense.com/v3/__https://localhost:8080/__;!!Mih3wA!GSTdHgWns6ptz8RsAECdDHBNdvm-oY4G0C_0GHHC-JF0bd_WfLHbHnvPBN2mjjIqosgRmPEzV1eaWmbiCohi$ "
        },
        "id": "e1G3hdgvLnCv",
        "outputId": "13871aa2-9b32-4c75-9146-4ba3d7a14e75"
      },
      "outputs": [
        {
          "output_type": "stream",
          "name": "stdout",
          "text": [
            "-- Validate your solution --\n"
          ]
        },
        {
          "output_type": "execute_result",
          "data": {
            "text/plain": [
              "True"
            ]
          },
          "metadata": {},
          "execution_count": 27
        }
      ],
      "source": [
        "# 1. Solution must be \"True\"\n",
        "multiple_list = [[1,2,3],[4,5,6],list((7,8,9))]\n",
        "\n",
        "# Solution:\n",
        "## 1. Combined 4,5 and 6 as a list\n",
        "## 2. Casted (7,8,9) tuple to list\n",
        "\n",
        "\n",
        "print('-- Validate your solution --')\n",
        "len(multiple_list)==3 and [7,8,9] in multiple_list"
      ]
    },
    {
      "cell_type": "code",
      "execution_count": 28,
      "metadata": {
        "colab": {
          "base_uri": "https://urldefense.com/v3/__https://localhost:8080/__;!!Mih3wA!GSTdHgWns6ptz8RsAECdDHBNdvm-oY4G0C_0GHHC-JF0bd_WfLHbHnvPBN2mjjIqosgRmPEzV1eaWmbiCohi$ "
        },
        "id": "HdMh5VpBLnCw",
        "outputId": "84a76a35-a906-453e-c16e-6349c87e24f1"
      },
      "outputs": [
        {
          "output_type": "stream",
          "name": "stdout",
          "text": [
            "-- Validate your solution --\n"
          ]
        },
        {
          "output_type": "execute_result",
          "data": {
            "text/plain": [
              "True"
            ]
          },
          "metadata": {},
          "execution_count": 28
        }
      ],
      "source": [
        "# 2. Solution must be \"True\"\n",
        "# Hint: add the string * new list * to the end of multiple_list\n",
        "multiple_list.append('new list')\n",
        "\n",
        "# Solution:\n",
        "## 1. Replace add by \"append\" - add is not a python list operation, but append is\n",
        "## 2. Added quotes to new list, to make a string\n",
        "\n",
        "print('-- Validate your solution --')\n",
        "type(multiple_list[-1]) == str"
      ]
    },
    {
      "cell_type": "code",
      "execution_count": 29,
      "metadata": {
        "colab": {
          "base_uri": "https://urldefense.com/v3/__https://localhost:8080/__;!!Mih3wA!GSTdHgWns6ptz8RsAECdDHBNdvm-oY4G0C_0GHHC-JF0bd_WfLHbHnvPBN2mjjIqosgRmPEzV1eaWmbiCohi$ "
        },
        "id": "-UMRnYUELnCw",
        "outputId": "38a40f57-941a-4ae4-cc1d-d010b7d248b7"
      },
      "outputs": [
        {
          "output_type": "stream",
          "name": "stdout",
          "text": [
            "-- Validate your solution --\n"
          ]
        },
        {
          "output_type": "execute_result",
          "data": {
            "text/plain": [
              "True"
            ]
          },
          "metadata": {},
          "execution_count": 29
        }
      ],
      "source": [
        "# 3. Solution must be \"True\"\n",
        "# Your code here\n",
        "multiple_list[0] = 'new list'\n",
        "\n",
        "# Solution:\n",
        "## 1. Replace add by \"append\" - add is not a python list operation, but append is\n",
        "## 2. Added quotes to new list, to make a string\n",
        "\n",
        "\n",
        "print('-- Validate your solution --')\n",
        "multiple_list[0] == 'new list'"
      ]
    },
    {
      "cell_type": "code",
      "execution_count": 30,
      "metadata": {
        "colab": {
          "base_uri": "https://urldefense.com/v3/__https://localhost:8080/__;!!Mih3wA!GSTdHgWns6ptz8RsAECdDHBNdvm-oY4G0C_0GHHC-JF0bd_WfLHbHnvPBN2mjjIqosgRmPEzV1eaWmbiCohi$ "
        },
        "id": "_lsFrtuELnCw",
        "outputId": "924aa581-febe-4f08-d155-66f4361cc8e6"
      },
      "outputs": [
        {
          "output_type": "stream",
          "name": "stdout",
          "text": [
            "-- Validate your solution --\n"
          ]
        },
        {
          "output_type": "execute_result",
          "data": {
            "text/plain": [
              "True"
            ]
          },
          "metadata": {},
          "execution_count": 30
        }
      ],
      "source": [
        "# 4. Solution must be \"True\"\n",
        "# Hint: create a dictionary with numerical even numbers as keys and the next odd number as string value \n",
        "## (e.g. 2 and 3 as key and value)\n",
        "even_dic = {2:'3', 4:'5'}\n",
        "\n",
        "# Solution:\n",
        "## 1. Add keys as integers with the even number \n",
        "## 2. Add values as strings with the quotes\n",
        "\n",
        "print('-- Validate your solution --')\n",
        "type(even_dic) == dict and all(type(key)==int for key in even_dic.keys()) and all(type(val)==str for val in even_dic.values())"
      ]
    },
    {
      "cell_type": "code",
      "execution_count": 31,
      "metadata": {
        "colab": {
          "base_uri": "https://urldefense.com/v3/__https://localhost:8080/__;!!Mih3wA!GSTdHgWns6ptz8RsAECdDHBNdvm-oY4G0C_0GHHC-JF0bd_WfLHbHnvPBN2mjjIqosgRmPEzV1eaWmbiCohi$ "
        },
        "id": "rSn3H1jXLnCw",
        "outputId": "a899e17b-53dc-4dc4-a3bc-be14862d7e0c"
      },
      "outputs": [
        {
          "output_type": "stream",
          "name": "stdout",
          "text": [
            "-- Validate your solution --\n"
          ]
        },
        {
          "output_type": "execute_result",
          "data": {
            "text/plain": [
              "True"
            ]
          },
          "metadata": {},
          "execution_count": 31
        }
      ],
      "source": [
        "# 5. Solution must be \"True\"\n",
        "# Hint: add a key-value to even_dic\n",
        "even_dic[3] = '5'\n",
        "\n",
        "# Solution:\n",
        "## 1. Add a numerical key: 3 \n",
        "## 2. Add the value as string\n",
        "\n",
        "print('-- Validate your solution --')\n",
        "3 in even_dic.keys()"
      ]
    },
    {
      "cell_type": "markdown",
      "metadata": {
        "id": "vw9BS6jLLnCw"
      },
      "source": [
        "<hr>\n",
        "\n",
        "## Additional resources\n",
        "<a href=\"https://urldefense.com/v3/__https://swcarpentry.github.io/python-novice-gapminder/11-lists/index.html*5C__;JQ!!Mih3wA!GSTdHgWns6ptz8RsAECdDHBNdvm-oY4G0C_0GHHC-JF0bd_WfLHbHnvPBN2mjjIqosgRmPEzV1eaWkQRTpkU$ ">Software Carpentries Lists</a>\n",
        "\n",
        "<a href=\"https://urldefense.com/v3/__https://python101.pythonlibrary.org/chapter3_lists_dicts.html*5C__;JQ!!Mih3wA!GSTdHgWns6ptz8RsAECdDHBNdvm-oY4G0C_0GHHC-JF0bd_WfLHbHnvPBN2mjjIqosgRmPEzV1eaWrggoGBg$ ">Python 101: Lists, Tuples, and Dictionaries</a>\n",
        "\n",
        "<a href=\"https://urldefense.com/v3/__https://github.com/jakevdp/WhirlwindTourOfPython/blob/6f1daf714fe52a8dde6a288674ba46a7feed8816/06-Built-in-Data-Structures.ipynb*5C__;JQ!!Mih3wA!GSTdHgWns6ptz8RsAECdDHBNdvm-oY4G0C_0GHHC-JF0bd_WfLHbHnvPBN2mjjIqosgRmPEzV1eaWlrY-sol$ ">Whirlwind Tour of Python: Built-In Data Structures</a>\n"
      ]
    },
    {
      "cell_type": "markdown",
      "metadata": {
        "id": "4OBSywU_LnCw"
      },
      "source": [
        "## About this notebook\n",
        "This notebook is largely derived from UCSD COGS18 Materials, created by Tom Donoghue & Shannon Ellis, as well as the <a href=\"https://urldefense.com/v3/__https://github.com/jrjohansson/scientific-python-lectures/blob/master/Lecture-1-Introduction-to-Python-Programming.ipynb*5C__;JQ!!Mih3wA!GSTdHgWns6ptz8RsAECdDHBNdvm-oY4G0C_0GHHC-JF0bd_WfLHbHnvPBN2mjjIqosgRmPEzV1eaWn2NEz5A$ ">Scientific Python Lecture</a> by J.R. Johansson.\n",
        "\n",
        "Want to run this notebook as a slideshow? If you have Python (or Anaconda) follow <a href=\"https://urldefense.com/v3/__http://www.blog.pythonlibrary.org/2018/09/25/creating-presentations-with-jupyter-notebook/*5C__;JQ!!Mih3wA!GSTdHgWns6ptz8RsAECdDHBNdvm-oY4G0C_0GHHC-JF0bd_WfLHbHnvPBN2mjjIqosgRmPEzV1eaWiA8kOUW$ ">these instructions</a> to setup your computer with the RISE plugin."
      ]
    }
  ],
  "metadata": {
    "kernelspec": {
      "display_name": "Python 3",
      "language": "python",
      "name": "python3"
    },
    "language_info": {
      "codemirror_mode": {
        "name": "ipython",
        "version": 3
      },
      "file_extension": ".py",
      "mimetype": "text/x-python",
      "name": "python",
      "nbconvert_exporter": "python",
      "pygments_lexer": "ipython3",
      "version": "3.8.8"
    },
    "rise": {
      "theme": "serif"
    },
    "colab": {
      "name": "Copy of 04-DataStructures.ipynb",
      "provenance": [],
      "collapsed_sections": []
    }
  },
  "nbformat": 4,
  "nbformat_minor": 0
}